{
 "cells": [
  {
   "cell_type": "markdown",
   "metadata": {
    "deletable": false,
    "editable": false,
    "id": "kRL-Fg-DFprc",
    "nbgrader": {
     "grade": false,
     "locked": true,
     "solution": false
    }
   },
   "source": [
    "## Linear Algebra Assignment\n",
    "\n",
    "Answer the following questions by completing the corresponding scripts. Make sure you don't see any more packages than the ones provided here.\n",
    "\n"
   ]
  },
  {
   "cell_type": "code",
   "execution_count": 1,
   "metadata": {
    "deletable": false,
    "editable": false,
    "execution": {
     "iopub.execute_input": "2024-01-11T09:55:05.578559Z",
     "iopub.status.busy": "2024-01-11T09:55:05.578136Z",
     "iopub.status.idle": "2024-01-11T09:55:05.711795Z",
     "shell.execute_reply": "2024-01-11T09:55:05.710956Z"
    },
    "id": "t7ooZURuGcby",
    "nbgrader": {
     "grade": false,
     "locked": true,
     "solution": false
    }
   },
   "outputs": [],
   "source": [
    "import numpy as np"
   ]
  },
  {
   "cell_type": "markdown",
   "metadata": {
    "deletable": false,
    "editable": false,
    "id": "frhqpY6qF78d",
    "nbgrader": {
     "grade": false,
     "locked": true,
     "solution": false
    }
   },
   "source": [
    "### Question 1. [2 pts]\n",
    "\n",
    "Let a square matrix $M$ have the block form shown below, where $A$, $B$ and $C$ are $n\\times n$ invertible matrices.\n",
    "$$\n",
    "M = \\begin{bmatrix}A & B \\\\ C & 0\n",
    "\\end{bmatrix}\n",
    "$$\n",
    "Provide an expression for each block in the inverse\n",
    "$$\n",
    "M^{-1} = \\begin{bmatrix}P_{11} & P_{12} \\\\ P_{21} & P_{22}\n",
    "\\end{bmatrix}\n",
    "$$\n",
    "in terms of $A$, $B$, $C$, $A^{-1}$, $B^{-1}$ and $C^{-1}$.\n",
    "\n",
    "Implement these expressions in the functions below. Pay close attention to how the cells below compute the inverses for the blocks for you. You should not compute any additional inverses in your solution."
   ]
  },
  {
   "cell_type": "code",
   "execution_count": 2,
   "metadata": {
    "execution": {
     "iopub.execute_input": "2024-01-11T09:55:05.720691Z",
     "iopub.status.busy": "2024-01-11T09:55:05.720194Z",
     "iopub.status.idle": "2024-01-11T09:55:05.729829Z",
     "shell.execute_reply": "2024-01-11T09:55:05.729043Z"
    },
    "id": "s4yuETKhFk9q"
   },
   "outputs": [],
   "source": [
    "def P11_fnc(A, B, C, Ai, Bi, Ci):\n",
    "    ###\n",
    "    ### YOUR CODE HERE\n",
    "    ###\n",
    "    val = np.zeros(A.shape)\n",
    "    return val\n",
    "\n",
    "\n",
    "def P12_fnc(A, B, C, Ai, Bi, Ci):\n",
    "    ###\n",
    "    ### YOUR CODE HERE\n",
    "    ###\n",
    "    val = np.linalg.inv(C)\n",
    "    return val\n",
    "\n",
    "\n",
    "def P21_fnc(A, B, C, Ai, Bi, Ci):\n",
    "    ###\n",
    "    ### YOUR CODE HERE\n",
    "    ###\n",
    "    val = np.linalg.inv(B)\n",
    "    return val\n",
    "\n",
    "\n",
    "def P22_fnc(A, B, C, Ai, Bi, Ci):\n",
    "    ###\n",
    "    ### YOUR CODE HERE\n",
    "    ###\n",
    "    val = -np.linalg.inv(B) @ A @ np.linalg.inv(C)\n",
    "    return val"
   ]
  },
  {
   "cell_type": "markdown",
   "metadata": {
    "deletable": false,
    "editable": false,
    "id": "_NFcdGnjK8a0",
    "nbgrader": {
     "grade": false,
     "locked": true,
     "solution": false
    }
   },
   "source": [
    "Running first of tests. [1 pt]"
   ]
  },
  {
   "cell_type": "code",
   "execution_count": 3,
   "metadata": {
    "colab": {
     "base_uri": "https://localhost:8080/"
    },
    "deletable": false,
    "editable": false,
    "execution": {
     "iopub.execute_input": "2024-01-11T09:55:05.735577Z",
     "iopub.status.busy": "2024-01-11T09:55:05.735224Z",
     "iopub.status.idle": "2024-01-11T09:55:05.750998Z",
     "shell.execute_reply": "2024-01-11T09:55:05.749036Z"
    },
    "id": "OfNnN5TXGLxA",
    "nbgrader": {
     "grade": true,
     "grade_id": "Q1a",
     "locked": true,
     "points": "1",
     "solution": false
    },
    "outputId": "8523a772-037f-4274-a659-4d7141395c89"
   },
   "outputs": [
    {
     "name": "stdout",
     "output_type": "stream",
     "text": [
      "Inverse of M Computed:\n",
      "[[ 0.          0.          0.25        0.        ]\n",
      " [ 0.          0.         -0.17857143  0.14285714]\n",
      " [ 0.5        -1.5         0.10714286  0.71428571]\n",
      " [ 0.          1.         -0.03571429 -0.57142857]]\n"
     ]
    }
   ],
   "source": [
    "def invM_fnc(A, B, C):\n",
    "    Ai = np.linalg.inv(A)\n",
    "    Bi = np.linalg.inv(B)\n",
    "    Ci = np.linalg.inv(C)\n",
    "\n",
    "    P11 = P11_fnc(A, B, C, Ai, Bi, Ci)\n",
    "    P12 = P12_fnc(A, B, C, Ai, Bi, Ci)\n",
    "    P21 = P21_fnc(A, B, C, Ai, Bi, Ci)\n",
    "    P22 = P22_fnc(A, B, C, Ai, Bi, Ci)\n",
    "\n",
    "    return np.block([[P11, P12], [P21, P22]])\n",
    "\n",
    "\n",
    "# Calculating the inverse of an example using the functions\n",
    "A = np.array([[1, 2], [3, 4]])\n",
    "B = np.array([[2, 3], [0, 1]])\n",
    "C = np.array([[4, 0], [5, 7]])\n",
    "invM = invM_fnc(A, B, C)\n",
    "print(\"Inverse of M Computed:\")\n",
    "print(invM)\n",
    "\n",
    "# This is the actual inverse\n",
    "invM_true = np.array(\n",
    "    [\n",
    "        [0, 0, 0.2500, 0],\n",
    "        [0, 0, -0.1786, 0.1429],\n",
    "        [0.5000, -1.5000, 0.1071, 0.7143],\n",
    "        [0, 1.0000, -0.0357, -0.5714],\n",
    "    ]\n",
    ")\n",
    "\n",
    "\n",
    "# This is the function that we will be using to check accuracy\n",
    "def AlmostEqual(P, Q, digits):\n",
    "    epsilon = 10**-digits\n",
    "    return np.linalg.norm(P - Q) < epsilon\n",
    "\n",
    "\n",
    "# Checking that the dimensions are correct\n",
    "assert not ((invM.shape != 2 * np.array(A.shape)).any())\n",
    "\n",
    "# Checking that the values are close enough\n",
    "assert AlmostEqual(invM_true, invM, 3)"
   ]
  },
  {
   "cell_type": "markdown",
   "metadata": {
    "deletable": false,
    "editable": false,
    "id": "UstM8dTQLCB-",
    "nbgrader": {
     "grade": false,
     "locked": true,
     "solution": false
    }
   },
   "source": [
    "Running second set of tests. [1 pt]"
   ]
  },
  {
   "cell_type": "code",
   "execution_count": 4,
   "metadata": {
    "deletable": false,
    "editable": false,
    "execution": {
     "iopub.execute_input": "2024-01-11T09:55:05.773381Z",
     "iopub.status.busy": "2024-01-11T09:55:05.772808Z",
     "iopub.status.idle": "2024-01-11T09:55:05.776414Z",
     "shell.execute_reply": "2024-01-11T09:55:05.775533Z"
    },
    "id": "MEAvtXhOLBEv",
    "nbgrader": {
     "grade": true,
     "grade_id": "Q1b",
     "locked": true,
     "points": "1",
     "solution": false
    }
   },
   "outputs": [],
   "source": [
    "###\n",
    "### AUTOGRADER TEST - DO NOT REMOVE\n",
    "###"
   ]
  },
  {
   "cell_type": "markdown",
   "metadata": {
    "deletable": false,
    "editable": false,
    "id": "XW1_Qp25OcYf",
    "nbgrader": {
     "grade": false,
     "locked": true,
     "solution": false
    }
   },
   "source": [
    "### Question 2. [2 pts]\n",
    "\n",
    "Let a square matrix $M$ have the form shown below, where $a$ and $b$ are non-zero scalars.\n",
    "$$\n",
    "M = \\begin{bmatrix}a & b-a \\\\ 0 & b\n",
    "\\end{bmatrix}\n",
    "$$\n",
    "\n",
    "For an integer $n>0$, provide an expression for each entry in\n",
    "$$\n",
    "M^{n} = \\begin{bmatrix}Q_{11} & Q_{12} \\\\ Q_{21} & Q_{22}\n",
    "\\end{bmatrix}\n",
    "$$\n",
    "in terms of $a$, $b$ and $n$.\n",
    "\n",
    "Implement these expressions in the functions below."
   ]
  },
  {
   "cell_type": "code",
   "execution_count": 5,
   "metadata": {
    "execution": {
     "iopub.execute_input": "2024-01-11T09:55:05.781937Z",
     "iopub.status.busy": "2024-01-11T09:55:05.781596Z",
     "iopub.status.idle": "2024-01-11T09:55:05.787839Z",
     "shell.execute_reply": "2024-01-11T09:55:05.786951Z"
    },
    "id": "OlIRInq9OcHf"
   },
   "outputs": [],
   "source": [
    "def Q11_fnc(a, b, n):\n",
    "    ###\n",
    "    ### YOUR CODE HERE\n",
    "    ###\n",
    "    val = a**n\n",
    "    return val\n",
    "\n",
    "\n",
    "def Q12_fnc(a, b, n):\n",
    "    ###\n",
    "    ### YOUR CODE HERE\n",
    "    ###\n",
    "    val = (b**n) - (a**n)\n",
    "    return val\n",
    "\n",
    "\n",
    "def Q21_fnc(a, b, n):\n",
    "    ###\n",
    "    ### YOUR CODE HERE\n",
    "    ###\n",
    "    val = 0\n",
    "    return val\n",
    "\n",
    "\n",
    "def Q22_fnc(a, b, n):\n",
    "    ###\n",
    "    ### YOUR CODE HERE\n",
    "    ###\n",
    "    val = b**n\n",
    "    return val"
   ]
  },
  {
   "cell_type": "markdown",
   "metadata": {
    "deletable": false,
    "editable": false,
    "id": "c4uAgzSmRjH-",
    "nbgrader": {
     "grade": false,
     "locked": true,
     "solution": false
    }
   },
   "source": [
    "Running first of tests. [1 pt]"
   ]
  },
  {
   "cell_type": "code",
   "execution_count": 6,
   "metadata": {
    "colab": {
     "base_uri": "https://localhost:8080/"
    },
    "deletable": false,
    "editable": false,
    "execution": {
     "iopub.execute_input": "2024-01-11T09:55:05.792642Z",
     "iopub.status.busy": "2024-01-11T09:55:05.792318Z",
     "iopub.status.idle": "2024-01-11T09:55:05.800586Z",
     "shell.execute_reply": "2024-01-11T09:55:05.799895Z"
    },
    "id": "QflmudVMRcco",
    "nbgrader": {
     "grade": true,
     "grade_id": "Q2a",
     "locked": true,
     "points": "1",
     "solution": false
    },
    "outputId": "4f74ef17-8f10-4792-b7b6-4ef40be1f968"
   },
   "outputs": [
    {
     "name": "stdout",
     "output_type": "stream",
     "text": [
      "Power of Matrix M computed:\n",
      "[[ 4096 -2800]\n",
      " [    0  1296]]\n"
     ]
    }
   ],
   "source": [
    "def Mn_fnc(a, b, n):\n",
    "    Q11 = Q11_fnc(a, b, n)\n",
    "    Q12 = Q12_fnc(a, b, n)\n",
    "    Q21 = Q21_fnc(a, b, n)\n",
    "    Q22 = Q22_fnc(a, b, n)\n",
    "\n",
    "    return np.array([[Q11, Q12], [Q21, Q22]])\n",
    "\n",
    "\n",
    "# Calculating the inverse of an example using the functions\n",
    "a = 8\n",
    "b = 6\n",
    "n = 4\n",
    "Mn = Mn_fnc(a, b, n)\n",
    "print(\"Power of Matrix M computed:\")\n",
    "print(Mn)\n",
    "\n",
    "# This is the actual matrix\n",
    "Mn_true = np.array([[4096, -2800], [0, 1296]])\n",
    "\n",
    "# Checking that the values are close enough\n",
    "assert AlmostEqual(Mn_true, Mn, 3)"
   ]
  },
  {
   "cell_type": "markdown",
   "metadata": {
    "deletable": false,
    "editable": false,
    "id": "NfufovcRTVoW",
    "nbgrader": {
     "grade": false,
     "locked": true,
     "solution": false
    }
   },
   "source": [
    "Running second of tests. [1 pt]"
   ]
  },
  {
   "cell_type": "code",
   "execution_count": 7,
   "metadata": {
    "deletable": false,
    "editable": false,
    "execution": {
     "iopub.execute_input": "2024-01-11T09:55:05.807412Z",
     "iopub.status.busy": "2024-01-11T09:55:05.806847Z",
     "iopub.status.idle": "2024-01-11T09:55:05.810360Z",
     "shell.execute_reply": "2024-01-11T09:55:05.809511Z"
    },
    "id": "iDSm6xusTXs2",
    "nbgrader": {
     "grade": true,
     "grade_id": "Q2b",
     "locked": true,
     "points": "1",
     "solution": false
    }
   },
   "outputs": [],
   "source": [
    "###\n",
    "### AUTOGRADER TEST - DO NOT REMOVE\n",
    "###"
   ]
  },
  {
   "cell_type": "markdown",
   "metadata": {
    "deletable": false,
    "editable": false,
    "id": "9HbfCElvUp2L",
    "nbgrader": {
     "grade": false,
     "locked": true,
     "solution": false
    }
   },
   "source": [
    "### Question 3. [2 pts]\n",
    "\n",
    "When solving for the values of $a$ and $b$ which make the curve $y=f(x)=a+b\\cdot 2^x$ go through the $(x,y)$ points $(0,y_1)$ and $(1,y_2)$ for some scalars $y_1$ and $y_2$, we can pose this problem as finding the solution of the following set of equations expressed in matrix form:\n",
    "$$\n",
    "\\begin{bmatrix} y_1 \\\\ y_2 \\end{bmatrix} =\n",
    "\\begin{bmatrix} m_{11} & m_{12} \\\\ m_{21} & m_{22} \\end{bmatrix} ⋅\n",
    "\\begin{bmatrix} a \\\\ *b* \\end{bmatrix}\n",
    "$$\n",
    "\n",
    "Specify what each term $m_{ij}$ is below. **Hint:** Each term is just a constant value, i.e. there are no dependencies on $y_1$ or $y_2$."
   ]
  },
  {
   "cell_type": "code",
   "execution_count": 8,
   "metadata": {
    "execution": {
     "iopub.execute_input": "2024-01-11T09:55:05.816087Z",
     "iopub.status.busy": "2024-01-11T09:55:05.815476Z",
     "iopub.status.idle": "2024-01-11T09:55:05.819830Z",
     "shell.execute_reply": "2024-01-11T09:55:05.818855Z"
    },
    "id": "tI8gf_HtU-Hr",
    "nbgrader": {
     "grade": false,
     "locked": false,
     "solution": false
    }
   },
   "outputs": [],
   "source": [
    "# Initializing the values of mij\n",
    "m11 = m12 = m21 = m22 = 0\n",
    "\n",
    "###\n",
    "### YOUR CODE HERE\n",
    "###\n",
    "m11 = 1\n",
    "m12 = 1\n",
    "m21 = 1\n",
    "m22 = 2"
   ]
  },
  {
   "cell_type": "markdown",
   "metadata": {
    "deletable": false,
    "editable": false,
    "id": "eW1njz9xiyGT",
    "nbgrader": {
     "grade": false,
     "locked": true,
     "solution": false
    }
   },
   "source": [
    "Running set of tests. [2 pts]"
   ]
  },
  {
   "cell_type": "code",
   "execution_count": 9,
   "metadata": {
    "colab": {
     "base_uri": "https://localhost:8080/"
    },
    "deletable": false,
    "editable": false,
    "execution": {
     "iopub.execute_input": "2024-01-11T09:55:05.824699Z",
     "iopub.status.busy": "2024-01-11T09:55:05.824355Z",
     "iopub.status.idle": "2024-01-11T09:55:05.830535Z",
     "shell.execute_reply": "2024-01-11T09:55:05.829615Z"
    },
    "id": "YsNdyRVFhBtV",
    "nbgrader": {
     "grade": true,
     "grade_id": "Q3",
     "locked": true,
     "points": "2",
     "solution": false
    },
    "outputId": "4bc2862a-d208-4fe7-a226-b0b5a833a9f1"
   },
   "outputs": [
    {
     "name": "stdout",
     "output_type": "stream",
     "text": [
      "Matrix M Defined:\n",
      "[[1 1]\n",
      " [1 2]]\n",
      "a = 0.0 | b = 2.0\n"
     ]
    }
   ],
   "source": [
    "# Defining the matrix M\n",
    "M = np.array([[m11, m12], [m21, m22]])\n",
    "print(\"Matrix M Defined:\")\n",
    "print(M)\n",
    "\n",
    "# Solving for a and b for sample values of y1 and y2\n",
    "y1 = 2\n",
    "y2 = 4\n",
    "ab = np.matmul(np.linalg.inv(M), np.array([y1, y2]))\n",
    "print(\"a = {} | b = {}\".format(ab[0], ab[1]))\n",
    "\n",
    "###\n",
    "### AUTOGRADER TEST - DO NOT REMOVE\n",
    "###"
   ]
  },
  {
   "cell_type": "markdown",
   "metadata": {
    "deletable": false,
    "editable": false,
    "id": "f6WGnjBlTzJ7",
    "nbgrader": {
     "grade": false,
     "locked": true,
     "solution": false
    }
   },
   "source": [
    "\n",
    "### Question 4. [2 pts]\n",
    "\n",
    "Let $A$, $B$ and $C$ be $n \\times n$ invertible matrices. Provide an expression for $X$ that solves the equation $C^{-1}(A+X)B^{-1}=I_n$, where $I_n$ is the $n \\times n$ identity matrix.\n",
    "\n",
    "Implement this expression in the functions below."
   ]
  },
  {
   "cell_type": "code",
   "execution_count": 10,
   "metadata": {
    "execution": {
     "iopub.execute_input": "2024-01-11T09:55:05.837148Z",
     "iopub.status.busy": "2024-01-11T09:55:05.836820Z",
     "iopub.status.idle": "2024-01-11T09:55:05.840796Z",
     "shell.execute_reply": "2024-01-11T09:55:05.839889Z"
    },
    "id": "LNuf9YWwju85"
   },
   "outputs": [],
   "source": [
    "def X_fnc(A, B, C):\n",
    "    ###\n",
    "    ### YOUR CODE HERE\n",
    "    ###\n",
    "    val = C @ B - A\n",
    "    return val"
   ]
  },
  {
   "cell_type": "code",
   "execution_count": 11,
   "metadata": {
    "colab": {
     "base_uri": "https://localhost:8080/"
    },
    "deletable": false,
    "editable": false,
    "execution": {
     "iopub.execute_input": "2024-01-11T09:55:05.845896Z",
     "iopub.status.busy": "2024-01-11T09:55:05.845557Z",
     "iopub.status.idle": "2024-01-11T09:55:05.851429Z",
     "shell.execute_reply": "2024-01-11T09:55:05.850708Z"
    },
    "id": "owtKqKyBj9xL",
    "nbgrader": {
     "grade": true,
     "grade_id": "Q4a",
     "locked": true,
     "points": "1",
     "solution": false
    },
    "outputId": "0df9fdbb-ed80-4ddb-a7f4-866aecc6a0e3"
   },
   "outputs": [
    {
     "name": "stdout",
     "output_type": "stream",
     "text": [
      "Matrix X Computed:\n",
      "[[ 95  51]\n",
      " [ -1 312]]\n"
     ]
    }
   ],
   "source": [
    "# Calculating X for a particular example\n",
    "A = np.array([[7, -11], [1, 8]])\n",
    "B = np.array([[6, 0], [0, 10]])\n",
    "C = np.array([[17, 4], [0, 32]])\n",
    "X = X_fnc(A, B, C)\n",
    "print(\"Matrix X Computed:\")\n",
    "print(X)\n",
    "\n",
    "###\n",
    "### AUTOGRADER TEST - DO NOT REMOVE\n",
    "###"
   ]
  },
  {
   "cell_type": "code",
   "execution_count": 12,
   "metadata": {
    "deletable": false,
    "editable": false,
    "execution": {
     "iopub.execute_input": "2024-01-11T09:55:05.861145Z",
     "iopub.status.busy": "2024-01-11T09:55:05.860338Z",
     "iopub.status.idle": "2024-01-11T09:55:05.866785Z",
     "shell.execute_reply": "2024-01-11T09:55:05.865406Z"
    },
    "id": "sUJX_hMHkw2p",
    "nbgrader": {
     "grade": true,
     "grade_id": "Q4b",
     "locked": true,
     "points": "1",
     "solution": false
    }
   },
   "outputs": [],
   "source": [
    "###\n",
    "### AUTOGRADER TEST - DO NOT REMOVE\n",
    "###"
   ]
  }
 ],
 "metadata": {
  "colab": {
   "provenance": []
  },
  "kernelspec": {
   "display_name": "Python 3 [3.10]",
   "language": "python",
   "name": "python3"
  },
  "language_info": {
   "codemirror_mode": {
    "name": "ipython",
    "version": 3
   },
   "file_extension": ".py",
   "mimetype": "text/x-python",
   "name": "python",
   "nbconvert_exporter": "python",
   "pygments_lexer": "ipython3",
   "version": "3.10.13"
  }
 },
 "nbformat": 4,
 "nbformat_minor": 4
}
