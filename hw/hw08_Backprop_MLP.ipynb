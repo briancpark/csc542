{
 "cells": [
  {
   "cell_type": "markdown",
   "metadata": {
    "deletable": false,
    "editable": false,
    "id": "cTOba2B9PAC3",
    "nbgrader": {
     "grade": false,
     "locked": true,
     "solution": false
    }
   },
   "source": [
    "# Backpropagation for MLP Assignment\n",
    "\n",
    "## Guidelines\n",
    "\n",
    "* Do not use any more packages than the ones provided in the notebook.\n",
    "* Do not make any changes outside the blocks that state \"YOUR CODE HERE\".\n",
    "* To make sure that your assignment is submitted correctly, click the \"Submit\" button and check the grades."
   ]
  },
  {
   "cell_type": "markdown",
   "metadata": {
    "deletable": false,
    "editable": false,
    "id": "Z1FML5dYPcEt",
    "nbgrader": {
     "grade": false,
     "locked": true,
     "solution": false
    }
   },
   "source": [
    "## Backpropagation for a Neural Network\n",
    "\n",
    "This assignment illustrates how backpropagation can be used to train a neural network by performing a simple binary classification problem using the MNIST dataset. You will be completing a portion of the backpropagation algorithm in this notebook. Note that your implementation of the backpropagation algorithm will have a few modifications since the gradients need to aggregated (by summing) the contributions from each training sample.\n",
    "\n",
    "We begin by loading the necessary packages and generating the data. We set a binary classification in which the number 2 is considered as a positive instance, and all the other digits are considered as negative instances."
   ]
  },
  {
   "cell_type": "code",
   "execution_count": 1,
   "metadata": {
    "deletable": false,
    "editable": false,
    "id": "wlXfxyVIVNd2",
    "nbgrader": {
     "grade": false,
     "locked": true,
     "solution": false
    }
   },
   "outputs": [],
   "source": [
    "# Import libraries\n",
    "import numpy as np\n",
    "import matplotlib\n",
    "import matplotlib.pyplot as plt"
   ]
  },
  {
   "cell_type": "code",
   "execution_count": 2,
   "metadata": {
    "deletable": false,
    "editable": false,
    "id": "mg5ZcL72P4TU",
    "nbgrader": {
     "grade": false,
     "locked": true,
     "solution": false
    }
   },
   "outputs": [],
   "source": [
    "# Import MNIST data\n",
    "from sklearn.datasets import fetch_openml\n",
    "\n",
    "mnist = fetch_openml(\"mnist_784\", version=1, parser=\"auto\")\n",
    "\n",
    "# Getting training and testing data:\n",
    "# We are setting up just a simple binary classification problem in which we aim to\n",
    "# properly classify the number 2.\n",
    "X, y_str = mnist[\"data\"], mnist[\"target\"]\n",
    "if not (type(X) is np.ndarray):\n",
    "    X = X.to_numpy()\n",
    "y = np.array([int(int(i) == 2) for i in y_str])\n",
    "X_train, X_test, y_train, y_test = X[:60000], X[60000:], y[:60000], y[60000:]"
   ]
  },
  {
   "cell_type": "markdown",
   "metadata": {
    "deletable": false,
    "editable": false,
    "id": "lzfzvymwP8Rc",
    "nbgrader": {
     "grade": false,
     "locked": true,
     "solution": false
    }
   },
   "source": [
    "The next cell defines some helper functions."
   ]
  },
  {
   "cell_type": "code",
   "execution_count": 3,
   "metadata": {
    "deletable": false,
    "editable": false,
    "id": "UQV_xFS3P6vT",
    "nbgrader": {
     "grade": false,
     "locked": true,
     "solution": false
    }
   },
   "outputs": [],
   "source": [
    "# Function evaluating the sigmoid\n",
    "def sigmoid(x):\n",
    "    return 1 / (1 + np.exp(-x))\n",
    "\n",
    "\n",
    "# Function evaluating the derivative of the sigmoid\n",
    "def sigmoidPrime(x):\n",
    "    return sigmoid(x) * (1 - sigmoid(x))\n",
    "\n",
    "\n",
    "# Function evaluating the entropy loss\n",
    "def net_loss(y, yhat):\n",
    "    y = y.reshape([len(y), 1])\n",
    "    return np.sum(-(1 - y) * np.log(1 - yhat) - y * np.log(yhat))\n",
    "\n",
    "\n",
    "# Function to determine the number of mismatches on the prediction\n",
    "def net_missed(y, yhat):\n",
    "    y = y.reshape([len(y), 1])\n",
    "    return np.sum(np.abs(y - (yhat > 0.5)))"
   ]
  },
  {
   "cell_type": "markdown",
   "metadata": {
    "deletable": false,
    "editable": false,
    "id": "O6wz75jiQCyS",
    "nbgrader": {
     "grade": false,
     "locked": true,
     "solution": false
    }
   },
   "source": [
    "The next portion of the code contains the main functions performing the initialization and prediction using the neural network."
   ]
  },
  {
   "cell_type": "code",
   "execution_count": 4,
   "metadata": {
    "deletable": false,
    "editable": false,
    "id": "vEmQ9R6zP_6b",
    "nbgrader": {
     "grade": false,
     "locked": true,
     "solution": false
    }
   },
   "outputs": [],
   "source": [
    "# Setting a seed for random number generator\n",
    "rng = np.random.default_rng(seed=42)\n",
    "\n",
    "\n",
    "# Function used to initialize the parameters of the neural network. No fancy\n",
    "# initialization here, just fixed Gaussians.\n",
    "def net_init(net):\n",
    "    for i in range(1, len(net[\"struct\"])):\n",
    "        net[\"W\"][i] = 0.01 * rng.normal(size=[net[\"struct\"][i], net[\"struct\"][i - 1]])\n",
    "        net[\"b\"][i] = np.zeros([net[\"struct\"][i], 1])\n",
    "\n",
    "\n",
    "# Function used to create the neural network structure. The input is a list\n",
    "# of parameters corresponding to the length of the input, hidden and output\n",
    "# layers. The output is a dictionary that contains all the parameters of the\n",
    "# neural network.\n",
    "def net_create(st):\n",
    "    net = {\"struct\": st, \"W\": {}, \"b\": {}, \"a\": {}, \"h\": {}}\n",
    "    net_init(net)\n",
    "    return net\n",
    "\n",
    "\n",
    "# Function used to evaluate the neural network\n",
    "def net_predict(net, X):\n",
    "    o = np.ones([1, X.shape[0]])\n",
    "\n",
    "    net[\"h\"][0] = np.transpose(X)\n",
    "    for k in range(0, len(net[\"W\"])):\n",
    "        net[\"a\"][k + 1] = np.matmul(net[\"b\"][k + 1], o) + np.matmul(\n",
    "            net[\"W\"][k + 1], net[\"h\"][k]\n",
    "        )\n",
    "        net[\"h\"][k + 1] = sigmoid(net[\"a\"][k + 1])\n",
    "\n",
    "    return np.transpose(net[\"h\"][len(net[\"W\"])])"
   ]
  },
  {
   "cell_type": "markdown",
   "metadata": {
    "deletable": false,
    "editable": false,
    "id": "-bbx_zH_QRJ5",
    "nbgrader": {
     "grade": false,
     "locked": true,
     "solution": false
    }
   },
   "source": [
    "Your task is to complete the backpropagation function. Make sure all the dimensions are consistent with what was done in class."
   ]
  },
  {
   "cell_type": "code",
   "execution_count": 5,
   "metadata": {
    "id": "DxH1ptiXQTV5",
    "nbgrader": {
     "grade": false,
     "locked": false,
     "solution": false
    }
   },
   "outputs": [],
   "source": [
    "# Function using backpropagation to compute the gradients of the parameters\n",
    "def net_backprop(net, X, y):\n",
    "    # Performing forward propagation\n",
    "    yhat = net_predict(net, X)\n",
    "\n",
    "    # Initializing gradients\n",
    "    B_b = [None] * (len(net[\"struct\"]))\n",
    "    B_W = [None] * (len(net[\"struct\"]))\n",
    "\n",
    "    # Implementation of gradients based on backpropagation algorithm\n",
    "    G = yhat - y.reshape([len(y), 1])\n",
    "    for k in range(len(net[\"W\"]), 0, -1):\n",
    "        ###\n",
    "        ### YOUR CODE HERE\n",
    "        ###\n",
    "        if k == len(net[\"W\"]):\n",
    "            dX = G @ net[\"W\"][k]\n",
    "            dB = np.sum(G, axis=0, keepdims=True).T\n",
    "            dW = net[\"h\"][k - 1] @ G\n",
    "        else:\n",
    "            Z = net[\"a\"][k]\n",
    "            dZ = sigmoidPrime(Z).T * dX\n",
    "            dB = np.sum(dZ, axis=0, keepdims=True)\n",
    "            dW = net[\"h\"][k - 1] @ dZ\n",
    "        B_b[k] = dB\n",
    "        B_W[k] = dW\n",
    "\n",
    "    return B_b, B_W"
   ]
  },
  {
   "cell_type": "markdown",
   "metadata": {
    "deletable": false,
    "editable": false,
    "id": "NUR1YZLYQpLC",
    "nbgrader": {
     "grade": false,
     "locked": true,
     "solution": false
    }
   },
   "source": [
    "The next portion of the code contains the function for training the neural network."
   ]
  },
  {
   "cell_type": "code",
   "execution_count": 6,
   "metadata": {
    "deletable": false,
    "editable": false,
    "id": "7kHa5hyqQp0Q",
    "nbgrader": {
     "grade": false,
     "locked": true,
     "solution": false
    }
   },
   "outputs": [],
   "source": [
    "# Function used for training of the neural network. It updates the parameters\n",
    "# in the neural network and returns the history of the training Loss 'Loss',\n",
    "# the validation loss 'Loss_val' and the number of missed prediction in the\n",
    "# validation set 'missed_val'.\n",
    "def net_train(net, X_train, y_train, X_val, y_val, epsilon, NIter):\n",
    "    # Initializing arrays holding the history of loss and missed values\n",
    "    Loss = np.zeros(NIter)\n",
    "    Loss_val = np.zeros(NIter)\n",
    "    missed_val = np.zeros(NIter)\n",
    "\n",
    "    # Simple implementation of gradient descent\n",
    "    for n in range(0, NIter):\n",
    "        # Computing gradient and updating parameters\n",
    "        DC_b, DC_W = net_backprop(net, X_train, y_train)\n",
    "        for k in range(0, len(net[\"W\"])):\n",
    "            net[\"b\"][k + 1] = net[\"b\"][k + 1] - epsilon * np.transpose(DC_b[k + 1])\n",
    "            net[\"W\"][k + 1] = net[\"W\"][k + 1] - epsilon * np.transpose(DC_W[k + 1])\n",
    "\n",
    "        # Computing losses and missed values for the validation set\n",
    "        Loss[n] = net_loss(y_train, np.transpose(net[\"h\"][len(net[\"W\"])]))\n",
    "        yhat_val = net_predict(net, X_val)\n",
    "        Loss_val[n] = net_loss(y_val, yhat_val)\n",
    "        missed_val[n] = net_missed(y_val, yhat_val)\n",
    "\n",
    "        # Displaying results for the current epoch\n",
    "        print(\n",
    "            \"... Epoch {:3d} | Loss_Train: {:.2E} | Loss_Val: {:.2E} | Acc_Val: {:2.2f}\".format(\n",
    "                n, Loss[n], Loss_val[n], 100 - 100 * (missed_val[n]) / len(yhat_val)\n",
    "            )\n",
    "        )\n",
    "\n",
    "    return Loss, Loss_val, missed_val"
   ]
  },
  {
   "cell_type": "markdown",
   "metadata": {
    "deletable": false,
    "editable": false,
    "id": "68eZ5dTBR2tU",
    "nbgrader": {
     "grade": false,
     "locked": true,
     "solution": false
    }
   },
   "source": [
    "Next we make sure that the dimensions and values of the gradient are correct for a two layer network."
   ]
  },
  {
   "cell_type": "code",
   "execution_count": 7,
   "metadata": {
    "deletable": false,
    "editable": false,
    "id": "fmyxp8aLRfJO",
    "nbgrader": {
     "grade": false,
     "locked": true,
     "solution": false
    }
   },
   "outputs": [],
   "source": [
    "# Creating a neural network structure\n",
    "net = net_create([784, 100, 1])\n",
    "\n",
    "# Computing gradients\n",
    "B_b, B_W = net_backprop(net, X_train, y_train)"
   ]
  },
  {
   "cell_type": "markdown",
   "metadata": {
    "deletable": false,
    "editable": false,
    "id": "YlNeeteOWZLW",
    "nbgrader": {
     "grade": false,
     "locked": true,
     "solution": false
    }
   },
   "source": [
    "Running tests for gradient dimensions [2pt]"
   ]
  },
  {
   "cell_type": "code",
   "execution_count": 8,
   "metadata": {
    "deletable": false,
    "editable": false,
    "id": "f-EN9t4VWX1u",
    "nbgrader": {
     "grade": true,
     "grade_id": "Gradient dimensions test",
     "locked": true,
     "points": "2",
     "solution": false
    }
   },
   "outputs": [],
   "source": [
    "assert len(B_b) == len(net[\"struct\"]), \" number of gradient vectors is not correct\"\n",
    "assert len(B_W) == len(net[\"struct\"]), \" number of gradient vectors is not correct\"\n",
    "\n",
    "assert B_b[0] == None, \"the gradients for an index of 0 are not empty\"\n",
    "assert B_W[0] == None, \"the gradients for an index of 0 are not empty\"\n",
    "\n",
    "# assert len(B_b[2])==1,'the dimensions of the individual gradients are not correct'\n",
    "assert (\n",
    "    B_b[1].shape[0] == 1\n",
    "), \"the dimensions of the individual gradients are not correct\"\n",
    "assert (\n",
    "    B_b[1].shape[1] == 100\n",
    "), \"the dimensions of the individual gradients are not correct\"\n",
    "assert (\n",
    "    B_W[1].shape[0] == 784\n",
    "), \"the dimensions of the individual gradients are not correct\"\n",
    "assert (\n",
    "    B_W[1].shape[1] == 100\n",
    "), \"the dimensions of the individual gradients are not correct\"\n",
    "assert (\n",
    "    B_W[2].shape[0] == 100\n",
    "), \"the dimensions of the individual gradients are not correct\"\n",
    "assert (\n",
    "    B_W[2].shape[1] == 1\n",
    "), \"the dimensions of the individual gradients are not correct\""
   ]
  },
  {
   "cell_type": "markdown",
   "metadata": {
    "deletable": false,
    "editable": false,
    "id": "FPezqU-iWHHO",
    "nbgrader": {
     "grade": false,
     "locked": true,
     "solution": false
    }
   },
   "source": [
    "Running first test for gradient norm [2pt]"
   ]
  },
  {
   "cell_type": "code",
   "execution_count": 9,
   "metadata": {
    "deletable": false,
    "editable": false,
    "id": "o6ClYutuT_OM",
    "nbgrader": {
     "grade": true,
     "grade_id": "Gradient norm test 1",
     "locked": true,
     "points": "2",
     "solution": false
    }
   },
   "outputs": [],
   "source": [
    "assert np.abs(B_b[2] - 24631.04) < 0.1, \"gradient norm is not correct\"\n",
    "assert np.abs(B_W[2][50] - 9015.61) < 0.1, \"gradient norm is not correct\""
   ]
  },
  {
   "cell_type": "markdown",
   "metadata": {
    "deletable": false,
    "editable": false,
    "id": "Uf2MmM9-WPtG",
    "nbgrader": {
     "grade": false,
     "locked": true,
     "solution": false
    }
   },
   "source": [
    "Running second test for gradient norm [2pt]"
   ]
  },
  {
   "cell_type": "code",
   "execution_count": 10,
   "metadata": {
    "deletable": false,
    "editable": false,
    "id": "NsZO4SSNWL3e",
    "nbgrader": {
     "grade": true,
     "grade_id": "Gradient norm test 2",
     "locked": true,
     "points": "2",
     "solution": false
    }
   },
   "outputs": [],
   "source": [
    "###\n",
    "### AUTOGRADER TEST - DO NOT REMOVE\n",
    "###"
   ]
  },
  {
   "cell_type": "markdown",
   "metadata": {
    "deletable": false,
    "editable": false,
    "id": "tUbowarrR3iT",
    "nbgrader": {
     "grade": false,
     "locked": true,
     "solution": false
    }
   },
   "source": [
    "Finally, the two networks are fully trained to compare their performance. Note that since we are not doing any hyper-parameter tuning, we use the test sets for validation to show how the generalization error changes as the network gets trained. If we use this test set as stopping criteria for training then we would need to find a different set for our final evaluation."
   ]
  },
  {
   "cell_type": "code",
   "execution_count": 11,
   "metadata": {
    "colab": {
     "base_uri": "https://localhost:8080/",
     "height": 1000
    },
    "deletable": false,
    "editable": false,
    "id": "9ErRPShbScEz",
    "nbgrader": {
     "grade": false,
     "locked": true,
     "solution": false
    },
    "outputId": "ae11e128-3c5e-4138-da2f-82017c513f69"
   },
   "outputs": [
    {
     "name": "stdout",
     "output_type": "stream",
     "text": [
      "... Epoch   0 | Loss_Train: 4.09E+04 | Loss_Val: 4.23E+03 | Acc_Val: 89.68\n",
      "... Epoch   1 | Loss_Train: 2.52E+04 | Loss_Val: 3.47E+03 | Acc_Val: 89.68\n",
      "... Epoch   2 | Loss_Train: 2.06E+04 | Loss_Val: 3.22E+03 | Acc_Val: 89.68\n",
      "... Epoch   3 | Loss_Train: 1.90E+04 | Loss_Val: 3.08E+03 | Acc_Val: 89.68\n",
      "... Epoch   4 | Loss_Train: 1.82E+04 | Loss_Val: 2.97E+03 | Acc_Val: 89.68\n",
      "... Epoch   5 | Loss_Train: 1.75E+04 | Loss_Val: 2.86E+03 | Acc_Val: 89.68\n",
      "... Epoch   6 | Loss_Train: 1.68E+04 | Loss_Val: 2.75E+03 | Acc_Val: 89.68\n",
      "... Epoch   7 | Loss_Train: 1.62E+04 | Loss_Val: 2.65E+03 | Acc_Val: 89.68\n",
      "... Epoch   8 | Loss_Train: 1.57E+04 | Loss_Val: 2.56E+03 | Acc_Val: 89.68\n",
      "... Epoch   9 | Loss_Train: 1.51E+04 | Loss_Val: 2.47E+03 | Acc_Val: 89.68\n",
      "... Epoch  10 | Loss_Train: 1.46E+04 | Loss_Val: 2.39E+03 | Acc_Val: 89.68\n",
      "... Epoch  11 | Loss_Train: 1.42E+04 | Loss_Val: 2.31E+03 | Acc_Val: 89.68\n",
      "... Epoch  12 | Loss_Train: 1.37E+04 | Loss_Val: 2.24E+03 | Acc_Val: 89.68\n",
      "... Epoch  13 | Loss_Train: 1.33E+04 | Loss_Val: 2.18E+03 | Acc_Val: 89.68\n",
      "... Epoch  14 | Loss_Train: 1.29E+04 | Loss_Val: 2.12E+03 | Acc_Val: 89.68\n",
      "... Epoch  15 | Loss_Train: 1.26E+04 | Loss_Val: 2.06E+03 | Acc_Val: 89.68\n",
      "... Epoch  16 | Loss_Train: 1.22E+04 | Loss_Val: 2.01E+03 | Acc_Val: 89.68\n",
      "... Epoch  17 | Loss_Train: 1.19E+04 | Loss_Val: 1.96E+03 | Acc_Val: 89.68\n",
      "... Epoch  18 | Loss_Train: 1.16E+04 | Loss_Val: 1.91E+03 | Acc_Val: 89.68\n",
      "... Epoch  19 | Loss_Train: 1.14E+04 | Loss_Val: 1.87E+03 | Acc_Val: 89.68\n",
      "... Epoch  20 | Loss_Train: 1.11E+04 | Loss_Val: 1.83E+03 | Acc_Val: 89.68\n",
      "... Epoch  21 | Loss_Train: 1.09E+04 | Loss_Val: 1.79E+03 | Acc_Val: 89.68\n",
      "... Epoch  22 | Loss_Train: 1.06E+04 | Loss_Val: 1.76E+03 | Acc_Val: 89.68\n",
      "... Epoch  23 | Loss_Train: 1.04E+04 | Loss_Val: 1.72E+03 | Acc_Val: 89.68\n",
      "... Epoch  24 | Loss_Train: 1.02E+04 | Loss_Val: 1.69E+03 | Acc_Val: 89.68\n",
      "... Epoch  25 | Loss_Train: 1.00E+04 | Loss_Val: 1.66E+03 | Acc_Val: 89.68\n",
      "... Epoch  26 | Loss_Train: 9.83E+03 | Loss_Val: 1.63E+03 | Acc_Val: 89.68\n",
      "... Epoch  27 | Loss_Train: 9.65E+03 | Loss_Val: 1.60E+03 | Acc_Val: 89.68\n",
      "... Epoch  28 | Loss_Train: 9.48E+03 | Loss_Val: 1.57E+03 | Acc_Val: 89.68\n",
      "... Epoch  29 | Loss_Train: 9.31E+03 | Loss_Val: 1.54E+03 | Acc_Val: 89.79\n",
      "... Epoch  30 | Loss_Train: 9.15E+03 | Loss_Val: 1.52E+03 | Acc_Val: 90.77\n",
      "... Epoch  31 | Loss_Train: 9.00E+03 | Loss_Val: 1.49E+03 | Acc_Val: 92.08\n",
      "... Epoch  32 | Loss_Train: 8.86E+03 | Loss_Val: 1.47E+03 | Acc_Val: 92.97\n",
      "... Epoch  33 | Loss_Train: 8.72E+03 | Loss_Val: 1.45E+03 | Acc_Val: 93.70\n",
      "... Epoch  34 | Loss_Train: 8.58E+03 | Loss_Val: 1.43E+03 | Acc_Val: 94.24\n",
      "... Epoch  35 | Loss_Train: 8.45E+03 | Loss_Val: 1.41E+03 | Acc_Val: 94.63\n",
      "... Epoch  36 | Loss_Train: 8.33E+03 | Loss_Val: 1.39E+03 | Acc_Val: 95.02\n",
      "... Epoch  37 | Loss_Train: 8.21E+03 | Loss_Val: 1.37E+03 | Acc_Val: 95.35\n",
      "... Epoch  38 | Loss_Train: 8.10E+03 | Loss_Val: 1.35E+03 | Acc_Val: 95.53\n",
      "... Epoch  39 | Loss_Train: 7.99E+03 | Loss_Val: 1.33E+03 | Acc_Val: 95.89\n",
      "... Epoch  40 | Loss_Train: 7.88E+03 | Loss_Val: 1.32E+03 | Acc_Val: 95.99\n",
      "... Epoch  41 | Loss_Train: 7.78E+03 | Loss_Val: 1.30E+03 | Acc_Val: 96.23\n",
      "... Epoch  42 | Loss_Train: 7.68E+03 | Loss_Val: 1.29E+03 | Acc_Val: 96.20\n",
      "... Epoch  43 | Loss_Train: 7.59E+03 | Loss_Val: 1.27E+03 | Acc_Val: 96.60\n",
      "... Epoch  44 | Loss_Train: 7.50E+03 | Loss_Val: 1.26E+03 | Acc_Val: 96.38\n",
      "... Epoch  45 | Loss_Train: 7.41E+03 | Loss_Val: 1.24E+03 | Acc_Val: 96.91\n",
      "... Epoch  46 | Loss_Train: 7.33E+03 | Loss_Val: 1.23E+03 | Acc_Val: 96.58\n",
      "... Epoch  47 | Loss_Train: 7.25E+03 | Loss_Val: 1.21E+03 | Acc_Val: 97.12\n",
      "... Epoch  48 | Loss_Train: 7.18E+03 | Loss_Val: 1.21E+03 | Acc_Val: 96.65\n",
      "... Epoch  49 | Loss_Train: 7.11E+03 | Loss_Val: 1.19E+03 | Acc_Val: 97.25\n",
      "... Epoch  50 | Loss_Train: 7.04E+03 | Loss_Val: 1.19E+03 | Acc_Val: 96.77\n",
      "... Epoch  51 | Loss_Train: 6.97E+03 | Loss_Val: 1.17E+03 | Acc_Val: 97.41\n",
      "... Epoch  52 | Loss_Train: 6.90E+03 | Loss_Val: 1.16E+03 | Acc_Val: 96.88\n",
      "... Epoch  53 | Loss_Train: 6.83E+03 | Loss_Val: 1.14E+03 | Acc_Val: 97.49\n",
      "... Epoch  54 | Loss_Train: 6.76E+03 | Loss_Val: 1.14E+03 | Acc_Val: 97.10\n",
      "... Epoch  55 | Loss_Train: 6.69E+03 | Loss_Val: 1.12E+03 | Acc_Val: 97.59\n",
      "... Epoch  56 | Loss_Train: 6.62E+03 | Loss_Val: 1.12E+03 | Acc_Val: 97.23\n",
      "... Epoch  57 | Loss_Train: 6.55E+03 | Loss_Val: 1.10E+03 | Acc_Val: 97.64\n",
      "... Epoch  58 | Loss_Train: 6.49E+03 | Loss_Val: 1.10E+03 | Acc_Val: 97.33\n",
      "... Epoch  59 | Loss_Train: 6.43E+03 | Loss_Val: 1.08E+03 | Acc_Val: 97.71\n",
      "... Epoch  60 | Loss_Train: 6.36E+03 | Loss_Val: 1.08E+03 | Acc_Val: 97.41\n",
      "... Epoch  61 | Loss_Train: 6.30E+03 | Loss_Val: 1.06E+03 | Acc_Val: 97.73\n",
      "... Epoch  62 | Loss_Train: 6.24E+03 | Loss_Val: 1.06E+03 | Acc_Val: 97.50\n",
      "... Epoch  63 | Loss_Train: 6.18E+03 | Loss_Val: 1.04E+03 | Acc_Val: 97.76\n",
      "... Epoch  64 | Loss_Train: 6.13E+03 | Loss_Val: 1.04E+03 | Acc_Val: 97.58\n",
      "... Epoch  65 | Loss_Train: 6.08E+03 | Loss_Val: 1.03E+03 | Acc_Val: 97.77\n",
      "... Epoch  66 | Loss_Train: 6.02E+03 | Loss_Val: 1.02E+03 | Acc_Val: 97.60\n",
      "... Epoch  67 | Loss_Train: 5.98E+03 | Loss_Val: 1.01E+03 | Acc_Val: 97.78\n",
      "... Epoch  68 | Loss_Train: 5.93E+03 | Loss_Val: 1.01E+03 | Acc_Val: 97.63\n",
      "... Epoch  69 | Loss_Train: 5.89E+03 | Loss_Val: 9.96E+02 | Acc_Val: 97.79\n",
      "... Epoch  70 | Loss_Train: 5.85E+03 | Loss_Val: 9.99E+02 | Acc_Val: 97.61\n",
      "... Epoch  71 | Loss_Train: 5.82E+03 | Loss_Val: 9.84E+02 | Acc_Val: 97.84\n",
      "... Epoch  72 | Loss_Train: 5.79E+03 | Loss_Val: 9.91E+02 | Acc_Val: 97.55\n",
      "... Epoch  73 | Loss_Train: 5.77E+03 | Loss_Val: 9.75E+02 | Acc_Val: 97.83\n",
      "... Epoch  74 | Loss_Train: 5.75E+03 | Loss_Val: 9.87E+02 | Acc_Val: 97.54\n",
      "... Epoch  75 | Loss_Train: 5.75E+03 | Loss_Val: 9.68E+02 | Acc_Val: 97.91\n",
      "... Epoch  76 | Loss_Train: 5.72E+03 | Loss_Val: 9.82E+02 | Acc_Val: 97.52\n",
      "... Epoch  77 | Loss_Train: 5.72E+03 | Loss_Val: 9.58E+02 | Acc_Val: 97.91\n",
      "... Epoch  78 | Loss_Train: 5.67E+03 | Loss_Val: 9.73E+02 | Acc_Val: 97.52\n",
      "... Epoch  79 | Loss_Train: 5.66E+03 | Loss_Val: 9.46E+02 | Acc_Val: 97.95\n",
      "... Epoch  80 | Loss_Train: 5.59E+03 | Loss_Val: 9.58E+02 | Acc_Val: 97.57\n",
      "... Epoch  81 | Loss_Train: 5.56E+03 | Loss_Val: 9.31E+02 | Acc_Val: 97.97\n",
      "... Epoch  82 | Loss_Train: 5.49E+03 | Loss_Val: 9.39E+02 | Acc_Val: 97.64\n",
      "... Epoch  83 | Loss_Train: 5.45E+03 | Loss_Val: 9.15E+02 | Acc_Val: 98.00\n",
      "... Epoch  84 | Loss_Train: 5.37E+03 | Loss_Val: 9.17E+02 | Acc_Val: 97.72\n",
      "... Epoch  85 | Loss_Train: 5.32E+03 | Loss_Val: 8.99E+02 | Acc_Val: 98.01\n",
      "... Epoch  86 | Loss_Train: 5.26E+03 | Loss_Val: 8.99E+02 | Acc_Val: 97.76\n",
      "... Epoch  87 | Loss_Train: 5.21E+03 | Loss_Val: 8.86E+02 | Acc_Val: 97.99\n",
      "... Epoch  88 | Loss_Train: 5.16E+03 | Loss_Val: 8.85E+02 | Acc_Val: 97.86\n",
      "... Epoch  89 | Loss_Train: 5.13E+03 | Loss_Val: 8.75E+02 | Acc_Val: 97.99\n",
      "... Epoch  90 | Loss_Train: 5.09E+03 | Loss_Val: 8.74E+02 | Acc_Val: 97.89\n",
      "... Epoch  91 | Loss_Train: 5.06E+03 | Loss_Val: 8.66E+02 | Acc_Val: 98.02\n",
      "... Epoch  92 | Loss_Train: 5.03E+03 | Loss_Val: 8.66E+02 | Acc_Val: 97.90\n",
      "... Epoch  93 | Loss_Train: 5.00E+03 | Loss_Val: 8.57E+02 | Acc_Val: 98.04\n",
      "... Epoch  94 | Loss_Train: 4.97E+03 | Loss_Val: 8.59E+02 | Acc_Val: 97.89\n",
      "... Epoch  95 | Loss_Train: 4.95E+03 | Loss_Val: 8.49E+02 | Acc_Val: 98.07\n",
      "... Epoch  96 | Loss_Train: 4.93E+03 | Loss_Val: 8.55E+02 | Acc_Val: 97.89\n",
      "... Epoch  97 | Loss_Train: 4.93E+03 | Loss_Val: 8.44E+02 | Acc_Val: 98.16\n",
      "... Epoch  98 | Loss_Train: 4.92E+03 | Loss_Val: 8.56E+02 | Acc_Val: 97.80\n",
      "... Epoch  99 | Loss_Train: 4.93E+03 | Loss_Val: 8.43E+02 | Acc_Val: 98.15\n"
     ]
    },
    {
     "data": {
      "image/png": "[encoded data removed]",
      "text/plain": [
       "<Figure size 640x480 with 1 Axes>"
      ]
     },
     "metadata": {},
     "output_type": "display_data"
    }
   ],
   "source": [
    "# Creating the network structure\n",
    "net = net_create([784, 100, 1])\n",
    "\n",
    "# Training the first network\n",
    "Loss, Loss_val, missed_val = net_train(\n",
    "    net, X_train, y_train, X_test, y_test, epsilon=1e-6, NIter=100\n",
    ")\n",
    "\n",
    "# Plotting learning curves:\n",
    "plt.plot(Loss / np.max(Loss))\n",
    "plt.plot(Loss_val / np.max(Loss_val))\n",
    "plt.legend({\"Normalized Training Loss\", \"Normalized Validation Loss\"})\n",
    "plt.show()"
   ]
  },
  {
   "cell_type": "markdown",
   "metadata": {
    "deletable": false,
    "editable": false,
    "id": "nRbb01MVV-aG",
    "nbgrader": {
     "grade": false,
     "locked": true,
     "solution": false
    }
   },
   "source": [
    "Running test for final accuracy. Note that if you happen to have a bad initialization, then you may fail this test. Try submitting the assignment a couple of times to check that this is not the case. [2pt]\n",
    "\n",
    "Also, note that the grading of this script will take a little longer than usual since it needs to train the entire neural network in the backend. We are using CPUs so the training is a little slow."
   ]
  },
  {
   "cell_type": "code",
   "execution_count": 12,
   "metadata": {
    "deletable": false,
    "editable": false,
    "id": "EVcJhhokUIu7",
    "nbgrader": {
     "grade": true,
     "grade_id": "Accuracy test",
     "locked": true,
     "points": "2",
     "solution": false
    }
   },
   "outputs": [],
   "source": [
    "assert (\n",
    "    100 - 100 * (missed_val[-1]) / len(y_test)\n",
    ") > 97, \" the final value of accuracy is not correct\""
   ]
  }
 ],
 "metadata": {
  "colab": {
   "provenance": []
  },
  "kernelspec": {
   "display_name": "Python 3 [3.10]",
   "language": "python",
   "name": "python3"
  },
  "language_info": {
   "codemirror_mode": {
    "name": "ipython",
    "version": 3
   },
   "file_extension": ".py",
   "mimetype": "text/x-python",
   "name": "python",
   "nbconvert_exporter": "python",
   "pygments_lexer": "ipython3",
   "version": "3.10.13"
  }
 },
 "nbformat": 4,
 "nbformat_minor": 4
}
