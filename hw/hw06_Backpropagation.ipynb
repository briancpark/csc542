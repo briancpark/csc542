{
 "cells": [
  {
   "cell_type": "markdown",
   "metadata": {
    "deletable": false,
    "editable": false,
    "id": "lJslNym45ykI",
    "nbgrader": {
     "grade": false,
     "locked": true,
     "solution": false
    }
   },
   "source": [
    "# Backpropagation Assignment\n",
    "\n",
    "Be sure to follow the guidelines below.\n",
    "* Do not use any more packages than the ones provided in the notebook.\n",
    "* Do not make any changes outside the blocks that state \"YOUR CODE HERE\".\n",
    "* To make sure that your assignment is submitted correctly, click the \"Submit\" button and check the grading report."
   ]
  },
  {
   "cell_type": "markdown",
   "metadata": {
    "deletable": false,
    "editable": false,
    "id": "trwi54Z169VO",
    "nbgrader": {
     "grade": false,
     "locked": true,
     "solution": false
    }
   },
   "source": [
    "In this assignment, you will implement the steps for backpropagation on the simple computation graph shown below.\n",
    "\n",
    "![Computation Graph](computation_graph.png \"Computation Graph\")"
   ]
  },
  {
   "cell_type": "markdown",
   "metadata": {
    "deletable": false,
    "editable": false,
    "id": "_xRDAeI26_KI",
    "nbgrader": {
     "grade": false,
     "locked": true,
     "solution": false
    }
   },
   "source": [
    "Note that we start the variables with the index 0 in order to better match how Python indexes things. The relationships between different variables are defined as follows:\n",
    "$$u_2 = u_0.u_1$$\n",
    "$$u_3 = cos(u_2)$$\n",
    "$$u_4 = sin(u_2)$$\n",
    "$$u_5 = σ(u_3)$$\n",
    "$$u_6 = u_4^2 + u_5^2$$\n",
    "where $u_0$ and $u_1$ are the inputs, and $\\sigma$ is the sigmoid function. These functions and their derivatives based on their input are all implemented below."
   ]
  },
  {
   "cell_type": "code",
   "execution_count": 1,
   "metadata": {
    "deletable": false,
    "editable": false,
    "id": "CC4yKGcc7SWR",
    "nbgrader": {
     "grade": false,
     "locked": true,
     "solution": false
    }
   },
   "outputs": [],
   "source": [
    "import numpy as np\n",
    "\n",
    "\n",
    "def sigmoid_f(x):\n",
    "    z = 1 / (1 + np.exp(-x))\n",
    "    return z\n",
    "\n",
    "\n",
    "# MAIN FUNCTIONS\n",
    "\n",
    "\n",
    "def u2(uList):\n",
    "    return uList[0] * uList[1]\n",
    "\n",
    "\n",
    "def u3(uList):\n",
    "    return np.cos(uList[2])\n",
    "\n",
    "\n",
    "def u4(uList):\n",
    "    return np.sin(uList[2])\n",
    "\n",
    "\n",
    "def u5(uList):\n",
    "    return sigmoid_f(uList[3])\n",
    "\n",
    "\n",
    "def u6(uList):\n",
    "    return uList[4] ** 2 + uList[5] ** 2\n",
    "\n",
    "\n",
    "# DERIVATIVES\n",
    "\n",
    "\n",
    "def du6u5(uList):\n",
    "    val = 2 * uList[5]\n",
    "    return val\n",
    "\n",
    "\n",
    "def du6u4(uList):\n",
    "    val = 2 * uList[4]\n",
    "    return val\n",
    "\n",
    "\n",
    "def du5u3(uList):\n",
    "    val = sigmoid_f(uList[3]) * (1 - sigmoid_f(uList[3]))\n",
    "    return val\n",
    "\n",
    "\n",
    "def du3u2(uList):\n",
    "    val = -np.sin(uList[2])\n",
    "    return val\n",
    "\n",
    "\n",
    "def du4u2(uList):\n",
    "    val = np.cos(uList[2])\n",
    "    return val\n",
    "\n",
    "\n",
    "def du2u1(uList):\n",
    "    val = uList[0]\n",
    "    return val\n",
    "\n",
    "\n",
    "def du2u0(uList):\n",
    "    val = uList[1]\n",
    "    return val"
   ]
  },
  {
   "cell_type": "markdown",
   "metadata": {
    "deletable": false,
    "editable": false,
    "id": "c9jfhIgA7Q7h",
    "nbgrader": {
     "grade": false,
     "locked": true,
     "solution": false
    }
   },
   "source": [
    "Below you can see an illustration of how these functions can be used."
   ]
  },
  {
   "cell_type": "code",
   "execution_count": 2,
   "metadata": {
    "colab": {
     "base_uri": "https://localhost:8080/"
    },
    "deletable": false,
    "editable": false,
    "id": "oQ3R_ujp4GCO",
    "nbgrader": {
     "grade": false,
     "locked": true,
     "solution": false
    },
    "outputId": "7d47c5f5-2b4d-4a89-c75b-c160945754de"
   },
   "outputs": [
    {
     "name": "stdout",
     "output_type": "stream",
     "text": [
      "u0:  1.000\n",
      "u1:  5.000\n",
      "u2:  5.000\n",
      "u3:  0.284\n",
      "u4: -0.959\n",
      "u5:  0.570\n",
      "u6:  1.245\n"
     ]
    }
   ],
   "source": [
    "# Performing a pass of forward propagation\n",
    "uList = np.zeros(7)\n",
    "uList[0:2] = [1, 5]\n",
    "uList[2] = u2(uList)\n",
    "uList[3] = u3(uList)\n",
    "uList[4] = u4(uList)\n",
    "uList[5] = u5(uList)\n",
    "uList[6] = u6(uList)\n",
    "\n",
    "for k in range(len(uList)):\n",
    "    print(\"u{:d}: {:6.3f}\".format(k, uList[k]))"
   ]
  },
  {
   "cell_type": "markdown",
   "metadata": {
    "deletable": false,
    "editable": false,
    "id": "n7DVE2gn7cF-",
    "nbgrader": {
     "grade": false,
     "locked": true,
     "solution": false
    }
   },
   "source": [
    "The following lines of code illustrate how to call the derivatives: $\\frac{du_2}{du_0}(u_0,u_1), \\frac{du_5}{du_3}(u_3)$. The rest of the derivatives can be obtained in a similar manner."
   ]
  },
  {
   "cell_type": "code",
   "execution_count": 3,
   "metadata": {
    "colab": {
     "base_uri": "https://localhost:8080/"
    },
    "deletable": false,
    "editable": false,
    "id": "pXAYh3xY7cya",
    "nbgrader": {
     "grade": false,
     "locked": true,
     "solution": false
    },
    "outputId": "9778f927-741c-419f-9afd-2d68fc4bd9d9"
   },
   "outputs": [
    {
     "name": "stdout",
     "output_type": "stream",
     "text": [
      "du2/du0:  5.000\n",
      "du5/du3:  0.245\n"
     ]
    }
   ],
   "source": [
    "print(\"du2/du0: {:6.3f}\".format(du2u0(uList)))\n",
    "print(\"du5/du3: {:6.3f}\".format(du5u3(uList)))"
   ]
  },
  {
   "cell_type": "markdown",
   "metadata": {
    "deletable": false,
    "editable": false,
    "id": "Zh0a5mLT84Ek",
    "nbgrader": {
     "grade": false,
     "locked": true,
     "solution": false
    }
   },
   "source": [
    "### Perform Backpropagation\n",
    "\n",
    "In this section, you need to follow the steps of the backpropagation algorithm to implement the derivatives $B_i = \\frac{du_6}{du_i}$ below. Only modify the blocks of code marked. Note that you should be using the values of $B_i$ pre-computed in prior stages and the corresponding derivatives so your implementation of each function should be one line long."
   ]
  },
  {
   "cell_type": "code",
   "execution_count": 4,
   "metadata": {
    "id": "qCknWuWd83Er"
   },
   "outputs": [],
   "source": [
    "def B5(BList, uList):\n",
    "    ###\n",
    "    ### YOUR CODE HERE\n",
    "    ###\n",
    "    return BList[6] * du6u5(uList)\n",
    "\n",
    "\n",
    "def B4(BList, uList):\n",
    "    ###\n",
    "    ### YOUR CODE HERE\n",
    "    ###\n",
    "    return BList[6] * du6u4(uList)\n",
    "\n",
    "\n",
    "def B3(BList, uList):\n",
    "    ###\n",
    "    ### YOUR CODE HERE\n",
    "    ###\n",
    "\n",
    "    return BList[5] * du5u3(uList)\n",
    "\n",
    "\n",
    "def B2(BList, uList):\n",
    "    ###\n",
    "    ### YOUR CODE HERE\n",
    "    ###\n",
    "\n",
    "    return BList[3] * du3u2(uList) + BList[4] * du4u2(uList)\n",
    "\n",
    "\n",
    "def B1(BList, uList):\n",
    "    ###\n",
    "    ### YOUR CODE HERE\n",
    "    ###\n",
    "\n",
    "    return BList[2] * du2u1(uList)\n",
    "\n",
    "\n",
    "def B0(BList, uList):\n",
    "    ###\n",
    "    ### YOUR CODE HERE\n",
    "    ###\n",
    "\n",
    "    return BList[2] * du2u0(uList)"
   ]
  },
  {
   "cell_type": "markdown",
   "metadata": {
    "deletable": false,
    "editable": false,
    "nbgrader": {
     "grade": false,
     "locked": true,
     "solution": false
    }
   },
   "source": [
    "Below you can see an illustration of how these functions can be used."
   ]
  },
  {
   "cell_type": "code",
   "execution_count": 5,
   "metadata": {
    "deletable": false,
    "editable": false,
    "nbgrader": {
     "grade": false,
     "locked": true,
     "solution": false
    }
   },
   "outputs": [
    {
     "name": "stdout",
     "output_type": "stream",
     "text": [
      "B0:  1.000\n",
      "B1:  5.000\n",
      "B2:  5.000\n",
      "B3:  0.284\n",
      "B4: -0.959\n",
      "B5:  0.570\n",
      "B6:  1.245\n"
     ]
    }
   ],
   "source": [
    "# Performing a pass of backpropagation\n",
    "BList = np.zeros(7)\n",
    "BList[6] = 1\n",
    "BList[5] = B5(BList, uList)\n",
    "BList[4] = B4(BList, uList)\n",
    "BList[3] = B3(BList, uList)\n",
    "BList[2] = B2(BList, uList)\n",
    "BList[1] = B1(BList, uList)\n",
    "BList[0] = B0(BList, uList)\n",
    "\n",
    "for k in range(len(BList)):\n",
    "    print(\"B{:d}: {:6.3f}\".format(k, uList[k]))"
   ]
  },
  {
   "cell_type": "markdown",
   "metadata": {
    "deletable": false,
    "editable": false,
    "id": "mrMbW_Zk-GWY",
    "nbgrader": {
     "grade": false,
     "locked": true,
     "solution": false
    }
   },
   "source": [
    "### Tests\n",
    "\n",
    "Now we run tests to check if your solutions are correct."
   ]
  },
  {
   "cell_type": "code",
   "execution_count": 6,
   "metadata": {
    "deletable": false,
    "editable": false,
    "id": "UgMPDZZl-lSF",
    "nbgrader": {
     "grade": false,
     "locked": true,
     "solution": false
    }
   },
   "outputs": [],
   "source": [
    "# This is the function that we will be using to check accuracy\n",
    "def AlmostEqual(P, Q, digits):\n",
    "    epsilon = 10**-digits\n",
    "    return np.linalg.norm(P - Q) < epsilon"
   ]
  },
  {
   "cell_type": "markdown",
   "metadata": {
    "deletable": false,
    "editable": false,
    "id": "Gc89-1RJHB4t",
    "nbgrader": {
     "grade": false,
     "locked": true,
     "solution": false
    }
   },
   "source": [
    "Running tests for B5 [2pt]"
   ]
  },
  {
   "cell_type": "code",
   "execution_count": 7,
   "metadata": {
    "deletable": false,
    "editable": false,
    "id": "GBIvtyp_HG4J",
    "nbgrader": {
     "grade": true,
     "grade_id": "B5",
     "locked": true,
     "points": "2",
     "solution": false
    }
   },
   "outputs": [],
   "source": [
    "# FIRST TEST\n",
    "\n",
    "uList = np.zeros(7)\n",
    "uList[0:2] = [2, 5]\n",
    "uList[2] = u2(uList)\n",
    "uList[3] = u3(uList)\n",
    "uList[4] = u4(uList)\n",
    "uList[5] = u5(uList)\n",
    "uList[6] = u6(uList)\n",
    "\n",
    "BList = np.array([3, 5, 6, 2, 1, 7, 2])\n",
    "\n",
    "B5_true = np.array([1.2069214669243271])\n",
    "\n",
    "assert AlmostEqual(B5_true, B5(BList, uList), 3)\n",
    "\n",
    "\n",
    "# SECOND TEST\n",
    "\n",
    "###\n",
    "### AUTOGRADER TEST - DO NOT REMOVE\n",
    "###"
   ]
  },
  {
   "cell_type": "markdown",
   "metadata": {
    "deletable": false,
    "editable": false,
    "id": "_aW8aqURIahi",
    "nbgrader": {
     "grade": false,
     "locked": true,
     "solution": false
    }
   },
   "source": [
    "Running tests for B4 [2pt]"
   ]
  },
  {
   "cell_type": "code",
   "execution_count": 8,
   "metadata": {
    "deletable": false,
    "editable": false,
    "id": "4hG4EATeIZ-p",
    "nbgrader": {
     "grade": true,
     "grade_id": "B4",
     "locked": true,
     "points": "2",
     "solution": false
    }
   },
   "outputs": [],
   "source": [
    "# FIRST TEST\n",
    "\n",
    "uList = np.zeros(7)\n",
    "uList[0:2] = [2, 5]\n",
    "uList[2] = u2(uList)\n",
    "uList[3] = u3(uList)\n",
    "uList[4] = u4(uList)\n",
    "uList[5] = u5(uList)\n",
    "uList[6] = u6(uList)\n",
    "\n",
    "BList = np.array([3, 5, 6, 2, 1, 7, 2])\n",
    "\n",
    "B4_true = np.array([-2.176084443557479])\n",
    "\n",
    "assert AlmostEqual(B4_true, B4(BList, uList), 3)\n",
    "\n",
    "\n",
    "# SECOND TEST\n",
    "\n",
    "###\n",
    "### AUTOGRADER TEST - DO NOT REMOVE\n",
    "###"
   ]
  },
  {
   "cell_type": "markdown",
   "metadata": {
    "deletable": false,
    "editable": false,
    "id": "I5E2cwrIFaHH",
    "nbgrader": {
     "grade": false,
     "locked": true,
     "solution": false
    }
   },
   "source": [
    "Running tests for B3 [2pt]"
   ]
  },
  {
   "cell_type": "code",
   "execution_count": 9,
   "metadata": {
    "deletable": false,
    "editable": false,
    "id": "oeG9abNDFZkH",
    "nbgrader": {
     "grade": true,
     "grade_id": "B3",
     "locked": true,
     "points": "2",
     "solution": false
    }
   },
   "outputs": [],
   "source": [
    "# FIRST TEST\n",
    "\n",
    "uList = np.zeros(7)\n",
    "uList[0:2] = [2, 5]\n",
    "uList[2] = u2(uList)\n",
    "uList[3] = u3(uList)\n",
    "uList[4] = u4(uList)\n",
    "uList[5] = u5(uList)\n",
    "uList[6] = u6(uList)\n",
    "\n",
    "BList = np.array([3, 5, 6, 2, 1, 7, 2])\n",
    "\n",
    "B3_true = np.array([1.4748240676638606])\n",
    "\n",
    "assert AlmostEqual(B3_true, B3(BList, uList), 3)\n",
    "\n",
    "\n",
    "# SECOND TEST\n",
    "\n",
    "###\n",
    "### AUTOGRADER TEST - DO NOT REMOVE\n",
    "###"
   ]
  },
  {
   "cell_type": "markdown",
   "metadata": {
    "deletable": false,
    "editable": false,
    "id": "lPfD4IYIGb4X",
    "nbgrader": {
     "grade": false,
     "locked": true,
     "solution": false
    }
   },
   "source": [
    "Running tests for B2 [2pt]"
   ]
  },
  {
   "cell_type": "code",
   "execution_count": 10,
   "metadata": {
    "deletable": false,
    "editable": false,
    "id": "zOvVxXU0Ge8S",
    "nbgrader": {
     "grade": true,
     "grade_id": "B2",
     "locked": true,
     "points": "2",
     "solution": false
    }
   },
   "outputs": [],
   "source": [
    "# FIRST TEST\n",
    "\n",
    "uList = np.zeros(7)\n",
    "uList[0:2] = [2, 5]\n",
    "uList[2] = u2(uList)\n",
    "uList[3] = u3(uList)\n",
    "uList[4] = u4(uList)\n",
    "uList[5] = u5(uList)\n",
    "uList[6] = u6(uList)\n",
    "\n",
    "BList = np.array([3, 5, 6, 2, 1, 7, 2])\n",
    "\n",
    "B2_true = np.array([0.2489706927022871])\n",
    "\n",
    "assert AlmostEqual(B2_true, B2(BList, uList), 3)\n",
    "\n",
    "\n",
    "# SECOND TEST\n",
    "\n",
    "###\n",
    "### AUTOGRADER TEST - DO NOT REMOVE\n",
    "###"
   ]
  },
  {
   "cell_type": "markdown",
   "metadata": {
    "deletable": false,
    "editable": false,
    "id": "Y1XQ2iwJ_Z1K",
    "nbgrader": {
     "grade": false,
     "locked": true,
     "solution": false
    }
   },
   "source": [
    "Running tests for B1 [2pt]"
   ]
  },
  {
   "cell_type": "code",
   "execution_count": 11,
   "metadata": {
    "deletable": false,
    "editable": false,
    "id": "w2MrUV7s_ZL8",
    "nbgrader": {
     "grade": true,
     "grade_id": "B1",
     "locked": true,
     "points": "2",
     "solution": false
    }
   },
   "outputs": [],
   "source": [
    "# FIRST TEST\n",
    "\n",
    "uList = np.zeros(7)\n",
    "uList[0:2] = [2, 5]\n",
    "uList[2] = u2(uList)\n",
    "uList[3] = u3(uList)\n",
    "uList[4] = u4(uList)\n",
    "uList[5] = u5(uList)\n",
    "uList[6] = u6(uList)\n",
    "\n",
    "BList = np.array([3, 5, 6, 2, 1, 7, 2])\n",
    "\n",
    "B1_true = np.array([12.0])\n",
    "\n",
    "assert AlmostEqual(B1_true, B1(BList, uList), 3)\n",
    "\n",
    "\n",
    "# SECOND TEST\n",
    "\n",
    "###\n",
    "### AUTOGRADER TEST - DO NOT REMOVE\n",
    "###"
   ]
  },
  {
   "cell_type": "markdown",
   "metadata": {
    "deletable": false,
    "editable": false,
    "id": "heSZsAlMDw7K",
    "nbgrader": {
     "grade": false,
     "locked": true,
     "solution": false
    }
   },
   "source": [
    "Running tests for B0 [2pt]"
   ]
  },
  {
   "cell_type": "code",
   "execution_count": 12,
   "metadata": {
    "deletable": false,
    "editable": false,
    "id": "gzv90JOiEFaC",
    "nbgrader": {
     "grade": true,
     "grade_id": "B0",
     "locked": true,
     "points": "2",
     "solution": false
    }
   },
   "outputs": [],
   "source": [
    "# FIRST TEST\n",
    "\n",
    "uList = np.zeros(7)\n",
    "uList[0:2] = [2, 5]\n",
    "uList[2] = u2(uList)\n",
    "uList[3] = u3(uList)\n",
    "uList[4] = u4(uList)\n",
    "uList[5] = u5(uList)\n",
    "uList[6] = u6(uList)\n",
    "\n",
    "BList = np.array([3, 5, 6, 2, 1, 7, 2])\n",
    "\n",
    "B0_true = np.array([30.0])\n",
    "\n",
    "assert AlmostEqual(B0_true, B0(BList, uList), 3)\n",
    "\n",
    "\n",
    "# SECOND TEST\n",
    "\n",
    "###\n",
    "### AUTOGRADER TEST - DO NOT REMOVE\n",
    "###"
   ]
  }
 ],
 "metadata": {
  "colab": {
   "provenance": []
  },
  "kernelspec": {
   "display_name": "Python 3 [3.10]",
   "language": "python",
   "name": "python3"
  },
  "language_info": {
   "codemirror_mode": {
    "name": "ipython",
    "version": 3
   },
   "file_extension": ".py",
   "mimetype": "text/x-python",
   "name": "python",
   "nbconvert_exporter": "python",
   "pygments_lexer": "ipython3",
   "version": "3.10.13"
  }
 },
 "nbformat": 4,
 "nbformat_minor": 4
}
