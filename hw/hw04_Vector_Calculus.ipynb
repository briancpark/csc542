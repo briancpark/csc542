{
 "cells": [
  {
   "cell_type": "markdown",
   "metadata": {
    "deletable": false,
    "editable": false,
    "id": "nqNubznbau3k",
    "nbgrader": {
     "grade": false,
     "locked": true,
     "solution": false
    }
   },
   "source": [
    "# Vector Calculus Assignment\n",
    "\n",
    "Answer the following questions by completing the corresponding scripts. Make sure you don't use any more packages than the ones provided here."
   ]
  },
  {
   "cell_type": "code",
   "execution_count": 1,
   "metadata": {
    "deletable": false,
    "editable": false,
    "id": "lB0pJgnPa2Ol",
    "nbgrader": {
     "grade": false,
     "locked": true,
     "solution": false
    }
   },
   "outputs": [],
   "source": [
    "import numpy as np\n",
    "\n",
    "\n",
    "# This is the function that we will be using to check accuracy\n",
    "def AlmostEqual(P, Q, digits):\n",
    "    epsilon = 10**-digits\n",
    "    return np.linalg.norm(P - Q) < epsilon"
   ]
  },
  {
   "cell_type": "markdown",
   "metadata": {
    "deletable": false,
    "editable": false,
    "id": "NQL8wWzMMd-A",
    "nbgrader": {
     "grade": false,
     "locked": true,
     "solution": false
    }
   },
   "source": [
    "## Problem 1 [4 pts]\n",
    "\n",
    "For parts (a) and (b), calculate the gradient of $f$ with respect to its input, i.e., compute $Df$.\n"
   ]
  },
  {
   "cell_type": "markdown",
   "metadata": {
    "deletable": false,
    "editable": false,
    "id": "td9fXAnqnV0j",
    "nbgrader": {
     "grade": false,
     "locked": true,
     "solution": false
    }
   },
   "source": [
    "### Part (a)\n",
    "\n",
    "$f(x,y,z) = 4x^3y^2-e^zy^4+\\frac{z^3}{x^2}+4y-x^{16}$\n",
    "\n",
    "Complete the code below."
   ]
  },
  {
   "cell_type": "code",
   "execution_count": 2,
   "metadata": {
    "id": "8YwBMLEkacRn"
   },
   "outputs": [],
   "source": [
    "def Df(x, y, z):\n",
    "    # Initializing the values\n",
    "    f_x = 0\n",
    "    f_y = 0\n",
    "    f_z = 0\n",
    "\n",
    "    ###\n",
    "    ### YOUR CODE HERE\n",
    "    ###\n",
    "\n",
    "    f_x = (12 * (x**2) * (y**2)) - ((2 * z**3 / (x**3))) - (16 * (x**15))\n",
    "    f_y = 8 * y * (x**3) - (4 * (y**3) * (np.e**z)) + 4\n",
    "    f_z = -(np.e**z) * (y**4) + (3 * (z**2) / (x**2))\n",
    "\n",
    "    return np.array([[f_x, f_y, f_z]])"
   ]
  },
  {
   "cell_type": "markdown",
   "metadata": {
    "deletable": false,
    "editable": false,
    "id": "ydP8EewKbzNC",
    "nbgrader": {
     "grade": false,
     "locked": true,
     "solution": false
    }
   },
   "source": [
    "Running first test. [1 pt]"
   ]
  },
  {
   "cell_type": "code",
   "execution_count": 3,
   "metadata": {
    "deletable": false,
    "editable": false,
    "id": "7WsaOUN7btMS",
    "nbgrader": {
     "grade": true,
     "grade_id": "P1a Test 1",
     "locked": true,
     "points": "1",
     "solution": false
    }
   },
   "outputs": [],
   "source": [
    "# Test input\n",
    "x = 2\n",
    "y = 4\n",
    "z = -1\n",
    "\n",
    "# True value of gradient for test input\n",
    "Df_true = np.array([-5.23519750e05, 1.65822863e02, -9.34271369e01])\n",
    "\n",
    "# Check for correctness of result\n",
    "assert AlmostEqual(Df_true, Df(x, y, z), 3)"
   ]
  },
  {
   "cell_type": "markdown",
   "metadata": {
    "deletable": false,
    "editable": false,
    "id": "OxZgMCvzdUzx",
    "nbgrader": {
     "grade": false,
     "locked": true,
     "solution": false
    }
   },
   "source": [
    "Running second test. [1 pt]"
   ]
  },
  {
   "cell_type": "code",
   "execution_count": 4,
   "metadata": {
    "deletable": false,
    "editable": false,
    "id": "p9FbyEBBcxJq",
    "nbgrader": {
     "grade": true,
     "grade_id": "P1a Test 2",
     "locked": true,
     "points": "1",
     "solution": false
    }
   },
   "outputs": [],
   "source": [
    "###\n",
    "### AUTOGRADER TEST - DO NOT REMOVE\n",
    "###"
   ]
  },
  {
   "cell_type": "markdown",
   "metadata": {
    "deletable": false,
    "editable": false,
    "id": "jxD7LkUxnYyq",
    "nbgrader": {
     "grade": false,
     "locked": true,
     "solution": false
    }
   },
   "source": [
    "### Part (b)\n",
    "\n",
    "$f\\left( {u,v,p,t} \\right) = 8{u^2}{t^3}p - \\sqrt v \\,{p^2}{t^{ - 5}} + 2{u^2}t + 3{p^4} - v$\n",
    "\n",
    "Complete the code below."
   ]
  },
  {
   "cell_type": "code",
   "execution_count": 5,
   "metadata": {
    "id": "e72DaZWNnX56"
   },
   "outputs": [],
   "source": [
    "def Df(u, v, p, t):\n",
    "    # Initializing the values\n",
    "    f_u = 0\n",
    "    f_v = 0\n",
    "    f_p = 0\n",
    "    f_t = 0\n",
    "\n",
    "    ###\n",
    "    ### YOUR CODE HERE\n",
    "    ###\n",
    "    f_u = 16 * u * t**3 * p + 4 * u * t\n",
    "    f_v = -(p**2 * t**-5) / (2 * np.sqrt(v)) - 1\n",
    "    f_p = 8 * u**2 * t**3 - 2 * p * np.sqrt(v) * t**-5 + 12 * p**3\n",
    "    f_t = 24 * u**2 * t**2 * p + 5 * t**-6 * np.sqrt(v) * p**2 + 2 * u**2\n",
    "\n",
    "    return np.array([[f_u, f_v, f_p, f_t]])"
   ]
  },
  {
   "cell_type": "markdown",
   "metadata": {
    "deletable": false,
    "editable": false,
    "id": "_uFEbUf-oIU6",
    "nbgrader": {
     "grade": false,
     "locked": true,
     "solution": false
    }
   },
   "source": [
    "Running first test. [1pt]"
   ]
  },
  {
   "cell_type": "code",
   "execution_count": 6,
   "metadata": {
    "deletable": false,
    "editable": false,
    "id": "IjV-8A3tnsw6",
    "nbgrader": {
     "grade": true,
     "grade_id": "P1b Test 1",
     "locked": true,
     "points": "1",
     "solution": false
    }
   },
   "outputs": [],
   "source": [
    "# Test input\n",
    "u = -1\n",
    "v = 1\n",
    "p = 2\n",
    "t = 1\n",
    "\n",
    "# True value of gradient for test input\n",
    "Df_true = np.array([-36, -3, 100, 70])\n",
    "\n",
    "# Check for correctness of result\n",
    "assert AlmostEqual(Df_true, Df(u, v, p, t), 3)"
   ]
  },
  {
   "cell_type": "markdown",
   "metadata": {
    "deletable": false,
    "editable": false,
    "id": "BtSIoICNoKgQ",
    "nbgrader": {
     "grade": false,
     "locked": true,
     "solution": false
    }
   },
   "source": [
    "Running second test. [1pt]"
   ]
  },
  {
   "cell_type": "code",
   "execution_count": 7,
   "metadata": {
    "deletable": false,
    "editable": false,
    "id": "WR3mVhugn2DZ",
    "nbgrader": {
     "grade": true,
     "grade_id": "P1b Test 2",
     "locked": true,
     "points": "1",
     "solution": false
    }
   },
   "outputs": [],
   "source": [
    "###\n",
    "### AUTOGRADER TEST - DO NOT REMOVE\n",
    "###"
   ]
  },
  {
   "cell_type": "markdown",
   "metadata": {
    "deletable": false,
    "editable": false,
    "id": "mkcRVgCZdd2S",
    "nbgrader": {
     "grade": false,
     "locked": true,
     "solution": false
    }
   },
   "source": [
    "## Problem 2 [6 pts]\n",
    "\n",
    "Using the chain rule, compute the derivative $\\frac{df\\circ u(x)}{dx}$ where $u:\\mathbb{R}^2\\to\\mathbb{R}^2$ and $f:\\mathbb{R}^2\\to\\mathbb{R}$ given that\n",
    "$f(z) = (z_1-z_2)e^{z_1}$ and $u(x) = \\begin{bmatrix} x_1 x_2 \\\\ x_1^2 - x_2^2 \\end{bmatrix}$. Complete the code for each of the following parts:\n",
    "\n",
    "a. Compute $Df = \\frac{df(z)}{dz}$\n",
    "\n",
    "b. Compute $Du = \\frac{du(x)}{dx}$\n",
    "\n",
    "c. Use the chain rule and the values of $Df, Du, f, u$, and $x$ to compute $Df\\circ u[x]$."
   ]
  },
  {
   "cell_type": "code",
   "execution_count": 8,
   "metadata": {
    "deletable": false,
    "editable": false,
    "id": "VOl78qK-7kKf",
    "nbgrader": {
     "grade": false,
     "locked": true,
     "solution": false
    }
   },
   "outputs": [],
   "source": [
    "def f(z1, z2):\n",
    "    return (z1 - z2) * np.exp(z1)\n",
    "\n",
    "\n",
    "def u(x1, x2):\n",
    "    return np.array([[x1 * x2], [x1**2 - x2**2]])"
   ]
  },
  {
   "cell_type": "markdown",
   "metadata": {
    "deletable": false,
    "editable": false,
    "id": "Gf1nRZPW7lDG",
    "nbgrader": {
     "grade": false,
     "locked": true,
     "solution": false
    }
   },
   "source": [
    "Complete the code below."
   ]
  },
  {
   "cell_type": "code",
   "execution_count": 9,
   "metadata": {
    "id": "tc_ErOIxde4Z"
   },
   "outputs": [],
   "source": [
    "# Part (a)\n",
    "# Remember that Df is a row vector in this case.\n",
    "def Df(z_1, z_2):\n",
    "    ###\n",
    "    ### YOUR CODE HERE\n",
    "    ###\n",
    "    df_dz1 = (1 + z_1 - z_2) * np.exp(z_1)\n",
    "    df_dz2 = -np.exp(z_1)\n",
    "    return np.array([df_dz1, df_dz2])\n",
    "\n",
    "\n",
    "# Part (b)\n",
    "# Remember that Du is a matrix in this case.\n",
    "def Du(x_1, x_2):\n",
    "    ###\n",
    "    ### YOUR CODE HERE\n",
    "    ###\n",
    "\n",
    "    du_dx = np.array([[x_2, x_1], [2 * x_1, -2 * x_2]])\n",
    "    return du_dx\n",
    "\n",
    "\n",
    "# Part (c)\n",
    "# You should only use x_1,x_2 and the function u, Du and Df together\n",
    "# with matrix multiplications.\n",
    "def Dfou(x_1, x_2):\n",
    "    ###\n",
    "    ### YOUR CODE HERE\n",
    "    ###\n",
    "\n",
    "    u_val = u(x_1, x_2)\n",
    "    Df_val = Df(u_val[0, 0], u_val[1, 0])\n",
    "    Du_val = Du(x_1, x_2)\n",
    "    return Df_val @ Du_val"
   ]
  },
  {
   "cell_type": "markdown",
   "metadata": {
    "deletable": false,
    "editable": false,
    "id": "XuhyH9KsJjMH",
    "nbgrader": {
     "grade": false,
     "locked": true,
     "solution": false
    }
   },
   "source": [
    "Running tests for Df. [2 pt]"
   ]
  },
  {
   "cell_type": "code",
   "execution_count": 10,
   "metadata": {
    "deletable": false,
    "editable": false,
    "id": "vcbHRzIpIbo3",
    "nbgrader": {
     "grade": true,
     "grade_id": "P2a Test 1",
     "locked": true,
     "points": "1",
     "solution": false
    }
   },
   "outputs": [],
   "source": [
    "# Part (a)\n",
    "\n",
    "# Test input\n",
    "z_1 = 0\n",
    "z_2 = 1\n",
    "\n",
    "# True value of Df for test input\n",
    "Df_true = np.array([[0, -1]])\n",
    "\n",
    "# Check for correctness of result\n",
    "assert AlmostEqual(Df_true, Df(z_1, z_2), 3)"
   ]
  },
  {
   "cell_type": "code",
   "execution_count": 11,
   "metadata": {
    "deletable": false,
    "editable": false,
    "id": "IA1Xn2jdJ3rY",
    "nbgrader": {
     "grade": true,
     "grade_id": "P2a Test 2",
     "locked": true,
     "points": "1",
     "solution": false
    }
   },
   "outputs": [],
   "source": [
    "###\n",
    "### AUTOGRADER TEST - DO NOT REMOVE\n",
    "###"
   ]
  },
  {
   "cell_type": "markdown",
   "metadata": {
    "deletable": false,
    "editable": false,
    "id": "6pGaWBN35YCD",
    "nbgrader": {
     "grade": false,
     "locked": true,
     "solution": false
    }
   },
   "source": [
    "Running tests for Du. [2 pt]"
   ]
  },
  {
   "cell_type": "code",
   "execution_count": 12,
   "metadata": {
    "deletable": false,
    "editable": false,
    "id": "Kn94-wb_I8tH",
    "nbgrader": {
     "grade": true,
     "grade_id": "P2b Test 1",
     "locked": true,
     "points": "1",
     "solution": false
    }
   },
   "outputs": [],
   "source": [
    "# Part (b)\n",
    "\n",
    "# Test input\n",
    "x_1 = 1\n",
    "x_2 = 1\n",
    "\n",
    "# True value of Du for test input\n",
    "Du_true = np.array([[1, 1], [2, -2]])\n",
    "\n",
    "# Check for correctness of result\n",
    "assert AlmostEqual(Du_true, Du(x_1, x_2), 3)"
   ]
  },
  {
   "cell_type": "code",
   "execution_count": 13,
   "metadata": {
    "deletable": false,
    "editable": false,
    "id": "PXR2td3OJR0_",
    "nbgrader": {
     "grade": true,
     "grade_id": "P2b Test 2",
     "locked": true,
     "points": "1",
     "solution": false
    }
   },
   "outputs": [],
   "source": [
    "###\n",
    "### AUTOGRADER TEST - DO NOT REMOVE\n",
    "###"
   ]
  },
  {
   "cell_type": "markdown",
   "metadata": {
    "deletable": false,
    "editable": false,
    "id": "3CdMNBpx5bqx",
    "nbgrader": {
     "grade": false,
     "locked": true,
     "solution": false
    }
   },
   "source": [
    "Running tests for Dfou. [2 pts]"
   ]
  },
  {
   "cell_type": "code",
   "execution_count": 14,
   "metadata": {
    "deletable": false,
    "editable": false,
    "id": "0suRk-E6JFDP",
    "nbgrader": {
     "grade": true,
     "grade_id": "P2c Test 1",
     "locked": true,
     "points": "1",
     "solution": false
    }
   },
   "outputs": [],
   "source": [
    "# Part (c)\n",
    "\n",
    "# Test input\n",
    "x_1, x_2 = 0, 1\n",
    "\n",
    "# True value of dfou for test input\n",
    "Dfou_true = np.array([[2.0, 2.0]])\n",
    "\n",
    "# Check for correctness of result\n",
    "assert AlmostEqual(Dfou_true, Dfou(x_1, x_2), 3)"
   ]
  },
  {
   "cell_type": "code",
   "execution_count": 15,
   "metadata": {
    "deletable": false,
    "editable": false,
    "id": "rQmwvzibJ9G_",
    "nbgrader": {
     "grade": true,
     "grade_id": "P2c Test 2",
     "locked": true,
     "points": "1",
     "solution": false
    }
   },
   "outputs": [],
   "source": [
    "###\n",
    "### AUTOGRADER TEST - DO NOT REMOVE\n",
    "###"
   ]
  },
  {
   "cell_type": "markdown",
   "metadata": {
    "deletable": false,
    "editable": false,
    "id": "gm3Jc3cGPjlm",
    "nbgrader": {
     "grade": false,
     "locked": true,
     "solution": false
    }
   },
   "source": [
    "## Problem 3 [2 pts]\n",
    "\n",
    "If $A(t) = \\begin{bmatrix}\n",
    "t^2 && t+1 \\\\\n",
    "t^3+t+3 &&  7\n",
    "\\end{bmatrix}$, calculate $DA^2[t] = \\frac{dA^2(t)}{dt}$.\n",
    "\n",
    "Complete the code below."
   ]
  },
  {
   "cell_type": "code",
   "execution_count": 16,
   "metadata": {
    "id": "Krq4gHBNPfaV"
   },
   "outputs": [],
   "source": [
    "def DA2(t):\n",
    "    ###\n",
    "    ### YOUR CODE HERE\n",
    "    ###\n",
    "\n",
    "    def A(t):\n",
    "        return np.array([[t**2, t + 1], [t**3 + t + 3, 7]])\n",
    "\n",
    "    def DA(t):\n",
    "        return np.array([[2 * t, 1], [3 * t**2 + 1, 0]])\n",
    "\n",
    "    At = A(t)\n",
    "    dAt = DA(t)\n",
    "    dA2dt = dAt @ At + At @ dAt\n",
    "\n",
    "    return dA2dt"
   ]
  },
  {
   "cell_type": "markdown",
   "metadata": {
    "deletable": false,
    "editable": false,
    "id": "m7rJv8jOQVJe",
    "nbgrader": {
     "grade": false,
     "locked": true,
     "solution": false
    }
   },
   "source": [
    "Running first test. [1 pt]"
   ]
  },
  {
   "cell_type": "code",
   "execution_count": 17,
   "metadata": {
    "deletable": false,
    "editable": false,
    "id": "nDF1BClEQRKf",
    "nbgrader": {
     "grade": true,
     "grade_id": "P3 Test 1",
     "locked": true,
     "points": "1",
     "solution": false
    }
   },
   "outputs": [],
   "source": [
    "# Test input\n",
    "t = 0\n",
    "\n",
    "# True value of dA2dt for test input\n",
    "DA2_true = np.array([[4, 7], [7, 4]])\n",
    "\n",
    "# Checking for correctness of result\n",
    "assert AlmostEqual(DA2_true, DA2(t), 3)"
   ]
  },
  {
   "cell_type": "markdown",
   "metadata": {
    "deletable": false,
    "editable": false,
    "id": "KOG4rCXeRF9U",
    "nbgrader": {
     "grade": false,
     "locked": true,
     "solution": false
    }
   },
   "source": [
    "Running second test. [1 pt]"
   ]
  },
  {
   "cell_type": "code",
   "execution_count": 18,
   "metadata": {
    "deletable": false,
    "editable": false,
    "id": "XvFEu8yuRDw7",
    "nbgrader": {
     "grade": true,
     "grade_id": "P3 Test 2",
     "locked": true,
     "points": "1",
     "solution": false
    }
   },
   "outputs": [],
   "source": [
    "###\n",
    "### AUTOGRADER TEST - DO NOT REMOVE\n",
    "###"
   ]
  },
  {
   "cell_type": "markdown",
   "metadata": {
    "deletable": false,
    "editable": false,
    "id": "cmbDKv59R5gI",
    "nbgrader": {
     "grade": false,
     "locked": true,
     "solution": false
    }
   },
   "source": [
    "## Problem 4 [8 pts]\n",
    "\n",
    "Using the chain rule, compute the derivative $\\frac{df\\circ g \\circ h(x)}{dx}$ where $h:\\mathbb{R}^3\\to\\mathbb{R}^2$, $g:\\mathbb{R}^2\\to\\mathbb{R}^2$, and $f:\\mathbb{R}^2\\to\\mathbb{R}$ given $f(z)=z_1 z_2+1$, $g(y)= \\begin{bmatrix}\n",
    "y_1 + 2y_2 \\\\\n",
    "4y_1 - y_2\n",
    "\\end{bmatrix}$, and  $h(x) =  \\begin{bmatrix}\n",
    "e^{x_1}\\cos x_2 + x_3 \\\\\n",
    "e^{x_1}\\sin x_2 + x_3\n",
    "\\end{bmatrix} $. Complete the code for each of the following parts:\n",
    "\n",
    "a. Compute $Df = \\frac{df(z)}{dz}$\n",
    "\n",
    "b. Compute $Dg = \\frac{dg(y)}{dy}$\n",
    "\n",
    "c. Compute $Dh = \\frac{dh(x)}{dx}$\n",
    "\n",
    "d. Use the chain rule and the values of $Df, Dg, Dh, f, g, h$ and $x$ to compute $Df\\circ g \\circ h[x] $"
   ]
  },
  {
   "cell_type": "code",
   "execution_count": 19,
   "metadata": {
    "deletable": false,
    "editable": false,
    "id": "_a-jKPk894gR",
    "nbgrader": {
     "grade": false,
     "locked": true,
     "solution": false
    }
   },
   "outputs": [],
   "source": [
    "def f(z_1, z_2):\n",
    "    return z_1 * z_2 + 1\n",
    "\n",
    "\n",
    "def g(y_1, y_2):\n",
    "    return np.array([[y_1 + 2 * y_2], [4 * y_1 - y_2]])\n",
    "\n",
    "\n",
    "def h(x_1, x_2, x_3):\n",
    "    return np.array(\n",
    "        [[np.exp(x_1) * np.cos(x_2) + x_3], [np.exp(x_1) * np.sin(x_2) + x_3]]\n",
    "    )"
   ]
  },
  {
   "cell_type": "markdown",
   "metadata": {
    "deletable": false,
    "editable": false,
    "id": "US0ouBR3957W",
    "nbgrader": {
     "grade": false,
     "locked": true,
     "solution": false
    }
   },
   "source": [
    "Complete the code below."
   ]
  },
  {
   "cell_type": "code",
   "execution_count": 20,
   "metadata": {
    "id": "CLnt6stCTEAN",
    "nbgrader": {
     "grade": false,
     "locked": false,
     "solution": false
    }
   },
   "outputs": [],
   "source": [
    "# Part (a)\n",
    "def Df(z_1, z_2):\n",
    "    ###\n",
    "    ### YOUR CODE HERE\n",
    "    ###\n",
    "    dz1 = z_2\n",
    "    dz2 = z_1\n",
    "\n",
    "    return np.array([dz1, dz2])\n",
    "\n",
    "\n",
    "# Part (b)\n",
    "def Dg(y_1, y_2):\n",
    "    ###\n",
    "    ### YOUR CODE HERE\n",
    "    ###\n",
    "\n",
    "    dy1 = [1, 2]\n",
    "    dy2 = [4, -1]\n",
    "    return np.array([dy1, dy2])\n",
    "\n",
    "\n",
    "# Part (c)\n",
    "def Dh(x_1, x_2, x_3):\n",
    "    ###\n",
    "    ### YOUR CODE HERE\n",
    "    ###\n",
    "    dz1 = [np.e**x_1 * np.cos(x_2), np.e**x_1 * np.sin(x_2)]\n",
    "    dz2 = [-np.e**x_1 * np.sin(x_2), np.e**x_1 * np.cos(x_2)]\n",
    "    dz3 = [1, 1]\n",
    "    return np.stack([dz1, dz2, dz3], axis=1).squeeze()\n",
    "\n",
    "\n",
    "# Part (d)\n",
    "# Make sure to only use x_1, x_2, x_3 and the functions f, g, h, Df, Dg, Dh\n",
    "# together with simple matrix multiplications.\n",
    "def Dfogoh(x_1, x_2, x_3):\n",
    "    ###\n",
    "    ### YOUR CODE HERE\n",
    "    ###\n",
    "    hx = h(x_1, x_2, x_3)\n",
    "    ghx = g(hx[0], hx[1]).squeeze(-1)\n",
    "\n",
    "    df = Df(ghx[0], ghx[1]).squeeze(-1)\n",
    "    dg = Dg(hx[0], hx[1])\n",
    "    dh = Dh(x_1, x_2, x_3)\n",
    "\n",
    "    return df.T @ dg @ dh"
   ]
  },
  {
   "cell_type": "markdown",
   "metadata": {
    "deletable": false,
    "editable": false,
    "id": "eU7z0OeKVeWE",
    "nbgrader": {
     "grade": false,
     "locked": true,
     "solution": false
    }
   },
   "source": [
    "Running tests for Df. [2 pts]"
   ]
  },
  {
   "cell_type": "code",
   "execution_count": 21,
   "metadata": {
    "deletable": false,
    "editable": false,
    "id": "eSPXMd3wVdh9",
    "nbgrader": {
     "grade": true,
     "grade_id": "P4a Test 1",
     "locked": true,
     "points": "1",
     "solution": false
    }
   },
   "outputs": [],
   "source": [
    "# Part (a)\n",
    "\n",
    "z_1, z_2 = 1, 2\n",
    "\n",
    "Df_true = np.array([[2, 1]])\n",
    "\n",
    "assert AlmostEqual(Df_true, Df(z_1, z_2), 3)"
   ]
  },
  {
   "cell_type": "code",
   "execution_count": 22,
   "metadata": {
    "deletable": false,
    "editable": false,
    "id": "0aOIhAw-YlT8",
    "nbgrader": {
     "grade": true,
     "grade_id": "P4a Test 2",
     "locked": true,
     "points": "1",
     "solution": false
    }
   },
   "outputs": [],
   "source": [
    "###\n",
    "### AUTOGRADER TEST - DO NOT REMOVE\n",
    "###"
   ]
  },
  {
   "cell_type": "markdown",
   "metadata": {
    "deletable": false,
    "editable": false,
    "id": "tcl4yWGh-kk2",
    "nbgrader": {
     "grade": false,
     "locked": true,
     "solution": false
    }
   },
   "source": [
    "Running tests for Dg. [2 pts]"
   ]
  },
  {
   "cell_type": "code",
   "execution_count": 23,
   "metadata": {
    "deletable": false,
    "editable": false,
    "id": "z99F0xHJYMzB",
    "nbgrader": {
     "grade": true,
     "grade_id": "P4b Test 1",
     "locked": true,
     "points": "1",
     "solution": false
    }
   },
   "outputs": [],
   "source": [
    "# Part (b)\n",
    "\n",
    "y_1, y_2 = 1, 2\n",
    "\n",
    "Dg_true = np.array([[1, 2], [4, -1]])\n",
    "\n",
    "assert AlmostEqual(Dg_true, Dg(y_1, y_2), 3)"
   ]
  },
  {
   "cell_type": "code",
   "execution_count": 24,
   "metadata": {
    "deletable": false,
    "editable": false,
    "id": "xXBPfveuYz9x",
    "nbgrader": {
     "grade": true,
     "grade_id": "P4b Test 2",
     "locked": true,
     "points": "1",
     "solution": false
    }
   },
   "outputs": [],
   "source": [
    "###\n",
    "### AUTOGRADER TEST - DO NOT REMOVE\n",
    "###"
   ]
  },
  {
   "cell_type": "markdown",
   "metadata": {
    "deletable": false,
    "editable": false,
    "id": "ByYtxu0p-rME",
    "nbgrader": {
     "grade": false,
     "locked": true,
     "solution": false
    }
   },
   "source": [
    "Running tests for Dh. [2 pts]"
   ]
  },
  {
   "cell_type": "code",
   "execution_count": 25,
   "metadata": {
    "deletable": false,
    "editable": false,
    "id": "Qup7rDtnYU2p",
    "nbgrader": {
     "grade": true,
     "grade_id": "P4c Test 1",
     "locked": true,
     "points": "1",
     "solution": false
    }
   },
   "outputs": [],
   "source": [
    "# Part (c)\n",
    "\n",
    "x_1, x_2, x_3 = 0, 0, 0\n",
    "\n",
    "Dh_true = np.array([[1, 0, 1], [0, 1, 1]])\n",
    "\n",
    "assert AlmostEqual(Dh_true, Dh(x_1, x_2, x_3), 3)"
   ]
  },
  {
   "cell_type": "code",
   "execution_count": 26,
   "metadata": {
    "deletable": false,
    "editable": false,
    "id": "gwroryutY9IR",
    "nbgrader": {
     "grade": true,
     "grade_id": "P4c Test 2",
     "locked": true,
     "points": "1",
     "solution": false
    }
   },
   "outputs": [],
   "source": [
    "###\n",
    "### AUTOGRADER TEST - DO NOT REMOVE\n",
    "###"
   ]
  },
  {
   "cell_type": "markdown",
   "metadata": {
    "deletable": false,
    "editable": false,
    "id": "Ouf4PCLs-w-c",
    "nbgrader": {
     "grade": false,
     "locked": true,
     "solution": false
    }
   },
   "source": [
    "Running tests for Dfogoh. [2 pts]"
   ]
  },
  {
   "cell_type": "code",
   "execution_count": 27,
   "metadata": {
    "deletable": false,
    "editable": false,
    "id": "0XU40UaSYdGh",
    "nbgrader": {
     "grade": true,
     "grade_id": "P4d Test 1",
     "locked": true,
     "points": "1",
     "solution": false
    }
   },
   "outputs": [],
   "source": [
    "# Part (d)\n",
    "\n",
    "x_1, x_2, x_3 = 0, 0, 0\n",
    "\n",
    "Dfogoh_true = np.array([[8, 7, 15]])\n",
    "\n",
    "assert AlmostEqual(Dfogoh_true, Dfogoh(x_1, x_2, x_3), 3)"
   ]
  },
  {
   "cell_type": "code",
   "execution_count": 28,
   "metadata": {
    "deletable": false,
    "editable": false,
    "id": "_qV9tUxmZFYg",
    "nbgrader": {
     "grade": true,
     "grade_id": "P4d Test 2",
     "locked": true,
     "points": "1",
     "solution": false
    }
   },
   "outputs": [],
   "source": [
    "###\n",
    "### AUTOGRADER TEST - DO NOT REMOVE\n",
    "###"
   ]
  }
 ],
 "metadata": {
  "colab": {
   "provenance": []
  },
  "kernelspec": {
   "display_name": "Python 3 [3.10]",
   "language": "python",
   "name": "python3"
  },
  "language_info": {
   "codemirror_mode": {
    "name": "ipython",
    "version": 3
   },
   "file_extension": ".py",
   "mimetype": "text/x-python",
   "name": "python",
   "nbconvert_exporter": "python",
   "pygments_lexer": "ipython3",
   "version": "3.10.13"
  }
 },
 "nbformat": 4,
 "nbformat_minor": 4
}
