{
 "cells": [
  {
   "cell_type": "markdown",
   "id": "545d6654-88e3-45bb-a7c8-99c64359000a",
   "metadata": {
    "deletable": false,
    "editable": false,
    "nbgrader": {
     "grade": false,
     "locked": true,
     "solution": false
    }
   },
   "source": [
    "# Dummy Assignment for Testing Automatic Grading\n",
    "\n",
    "The purpose of this assignment is to get you familiar with the automatic grading system. Make sure you only modify the section marked as\n",
    "```python\n",
    "###\n",
    "### YOUR CODE HERE\n",
    "###\n",
    "```\n",
    "Do not modify any code before or after the cell containing the required your code or this could raise an error. You are allowed to add more cells to the notebook if needed. Press the **Submit** button on the top when you are ready to get the assignment graded. The grading takes several seconds. We recommend you make a copy of the assignment before making any changes in case you make changes to undesired sections by mistake. You can also download the assignment and work on it on your local system before submitting online."
   ]
  },
  {
   "cell_type": "markdown",
   "id": "a65c600f-2d5a-46a9-84a7-211ab3ae61a9",
   "metadata": {
    "deletable": false,
    "editable": false,
    "nbgrader": {
     "grade": false,
     "locked": true,
     "solution": false
    }
   },
   "source": [
    "### Q1. Complete the function so it returns the addition of the inputs [1 pt]"
   ]
  },
  {
   "cell_type": "code",
   "execution_count": 1,
   "id": "a263098c-4d48-45c8-b2ed-66937cebf1ea",
   "metadata": {
    "execution": {
     "iopub.execute_input": "2024-01-10T11:16:46.552828Z",
     "iopub.status.busy": "2024-01-10T11:16:46.552606Z",
     "iopub.status.idle": "2024-01-10T11:16:46.560715Z",
     "shell.execute_reply": "2024-01-10T11:16:46.560357Z"
    },
    "nbgrader": {
     "grade": false,
     "grade_id": "Q1",
     "locked": false,
     "points": "1",
     "solution": false
    }
   },
   "outputs": [
    {
     "name": "stdout",
     "output_type": "stream",
     "text": [
      "Printing an example:\n",
      "  2 + 3 = 5\n"
     ]
    }
   ],
   "source": [
    "def sum(x, y):\n",
    "    ###\n",
    "    ### YOUR CODE HERE\n",
    "    ###\n",
    "    val = x + y\n",
    "    return val\n",
    "\n",
    "\n",
    "# Just an example of what it should work\n",
    "x = 2\n",
    "y = 3\n",
    "\n",
    "print(\"Printing an example:\")\n",
    "print(\"  {} + {} = {}\".format(x, y, sum(x, y)))"
   ]
  },
  {
   "cell_type": "markdown",
   "id": "6899f981-aa13-4d59-bbbb-577125df20cf",
   "metadata": {
    "deletable": false,
    "editable": false,
    "nbgrader": {
     "grade": false,
     "locked": true,
     "solution": false
    }
   },
   "source": [
    "The following tests are worth [1 pt]"
   ]
  },
  {
   "cell_type": "code",
   "execution_count": 2,
   "id": "51079ee3-a3dd-4b1e-90e8-1307e078738b",
   "metadata": {
    "deletable": false,
    "editable": false,
    "execution": {
     "iopub.execute_input": "2024-01-10T11:16:46.562926Z",
     "iopub.status.busy": "2024-01-10T11:16:46.562764Z",
     "iopub.status.idle": "2024-01-10T11:16:46.564890Z",
     "shell.execute_reply": "2024-01-10T11:16:46.564537Z"
    },
    "nbgrader": {
     "grade": true,
     "grade_id": "Q1",
     "locked": true,
     "points": "1",
     "solution": false
    }
   },
   "outputs": [],
   "source": [
    "# Checking that the function is correct. Note that we have are showing you some tests but keep some\n",
    "# some hidden. Try hardcoding the function so it satisfies the visible test. It should fail the\n",
    "# hidden ones.\n",
    "\n",
    "assert sum(2, 3) == 5\n",
    "\n",
    "###\n",
    "### AUTOGRADER TEST - DO NOT REMOVE\n",
    "###"
   ]
  },
  {
   "cell_type": "markdown",
   "id": "3ea020b7-1164-4e56-92c0-d1ad2afeb321",
   "metadata": {
    "deletable": false,
    "editable": false,
    "nbgrader": {
     "grade": false,
     "locked": true,
     "solution": false
    }
   },
   "source": [
    "### Q2. Assign a value to the variable `x` so it is within 0.01 from 2.71 [1 pt]"
   ]
  },
  {
   "cell_type": "code",
   "execution_count": 3,
   "id": "e360ae35-7762-44be-bdc8-9fc0e0cf902e",
   "metadata": {
    "execution": {
     "iopub.execute_input": "2024-01-10T11:16:46.567374Z",
     "iopub.status.busy": "2024-01-10T11:16:46.566985Z",
     "iopub.status.idle": "2024-01-10T11:16:46.569317Z",
     "shell.execute_reply": "2024-01-10T11:16:46.568959Z"
    },
    "nbgrader": {
     "grade": false,
     "locked": false,
     "solution": false
    }
   },
   "outputs": [],
   "source": [
    "# Initializing the variable\n",
    "x = 2.70\n",
    "\n",
    "###\n",
    "### YOUR CODE HERE\n",
    "###"
   ]
  },
  {
   "cell_type": "markdown",
   "id": "27397770-4a1e-4bf6-b820-69cee9198b92",
   "metadata": {
    "deletable": false,
    "editable": false,
    "nbgrader": {
     "grade": false,
     "locked": true,
     "solution": false
    }
   },
   "source": [
    "The following tests are worth [1 pt]"
   ]
  },
  {
   "cell_type": "code",
   "execution_count": 4,
   "id": "2d8374c6-e772-4239-8926-f8a18a90ccbd",
   "metadata": {
    "deletable": false,
    "editable": false,
    "execution": {
     "iopub.execute_input": "2024-01-10T11:16:46.571406Z",
     "iopub.status.busy": "2024-01-10T11:16:46.571267Z",
     "iopub.status.idle": "2024-01-10T11:16:46.572998Z",
     "shell.execute_reply": "2024-01-10T11:16:46.572700Z"
    },
    "nbgrader": {
     "grade": true,
     "grade_id": "Q2",
     "locked": true,
     "points": "1",
     "solution": false
    }
   },
   "outputs": [],
   "source": [
    "# Check what happens if you set x to be 2.71, 2.719 and 2.72\n",
    "\n",
    "###\n",
    "### AUTOGRADER TEST - DO NOT REMOVE\n",
    "###"
   ]
  }
 ],
 "metadata": {
  "kernelspec": {
   "display_name": "Python 3 [3.10]",
   "language": "python",
   "name": "python3"
  },
  "language_info": {
   "codemirror_mode": {
    "name": "ipython",
    "version": 3
   },
   "file_extension": ".py",
   "mimetype": "text/x-python",
   "name": "python",
   "nbconvert_exporter": "python",
   "pygments_lexer": "ipython3",
   "version": "3.10.13"
  }
 },
 "nbformat": 4,
 "nbformat_minor": 5
}
