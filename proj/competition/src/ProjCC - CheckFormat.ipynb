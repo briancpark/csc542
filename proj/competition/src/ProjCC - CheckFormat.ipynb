{
 "cells": [
  {
   "cell_type": "markdown",
   "metadata": {
    "id": "bHw2XgHzmQhX",
    "nbgrader": {
     "grade": false,
     "locked": true,
     "solution": false
    },
    "editable": false,
    "deletable": false
   },
   "source": [
    "## Checking Format of Predictions\n",
    "\n",
    "This script will check the format of your predictions. Make sure to upload your `x` and `y` values into the home directory before running this script. The files should not be renamed. "
   ]
  },
  {
   "cell_type": "code",
   "execution_count": 1,
   "metadata": {
    "colab": {
     "base_uri": "https://localhost:8080/"
    },
    "executionInfo": {
     "elapsed": 1843,
     "status": "ok",
     "timestamp": 1711034777901,
     "user": {
      "displayName": "Edgar Lobaton",
      "userId": "02856608958118334478"
     },
     "user_tz": 240
    },
    "id": "lM2Ii3T1mQha",
    "nbgrader": {
     "grade": false,
     "locked": true,
     "solution": false
    },
    "outputId": "2c78b9ec-e84d-4e56-c8a6-3f95e67da126",
    "editable": false,
    "deletable": false
   },
   "outputs": [],
   "source": [
    "import numpy as np\n",
    "import importlib\n",
    "import fncs\n",
    "import random\n",
    "\n",
    "importlib.reload(fncs)"
   ]
  },
  {
   "cell_type": "markdown",
   "metadata": {
    "id": "heZK31KGmQhc",
    "nbgrader": {
     "grade": false,
     "locked": true,
     "solution": false
    },
    "editable": false,
    "deletable": false
   },
   "source": [
    "### Loading the Data and Performing Checks\n",
    "\n",
    "This script checks some of the formatting for the predictions. Note that we also need the `x` values and assume that those are not changed."
   ]
  },
  {
   "cell_type": "code",
   "execution_count": 2,
   "metadata": {
    "nbgrader": {
     "grade": false,
     "locked": true,
     "solution": false
    },
    "editable": false,
    "deletable": false
   },
   "outputs": [],
   "source": [
    "idTest = [1, 2, 3, 4]\n",
    "dataFolder = \"./\"\n",
    "\n",
    "yPred = []\n",
    "for k, id in enumerate(idTest):\n",
    "    xt, xv, yt, yv = fncs.loadTrial(dataFolder, id=id)\n",
    "    yPred.append({\"t\": yt, \"v\": yv})"
   ]
  },
  {
   "cell_type": "markdown",
   "metadata": {
    "nbgrader": {
     "grade": false,
     "locked": true,
     "solution": false
    },
    "editable": false,
    "deletable": false
   },
   "source": [
    "First, we are doing a check on the timestamps of the predictions."
   ]
  },
  {
   "cell_type": "code",
   "execution_count": 23,
   "metadata": {
    "nbgrader": {
     "grade": true,
     "grade_id": "Test1",
     "locked": true,
     "points": "10",
     "solution": false
    },
    "editable": false,
    "deletable": false
   },
   "outputs": [],
   "source": [
    "y_t_start = [0.02, 0.02, 0.02, 0.02]\n",
    "y_t_end = [857.62, 861.82, 1203.42, 949.72]\n",
    "y_len = [8577, 8619, 12035, 9498]\n",
    "\n",
    "# First checking that the 't' values looks good. If this fails then either the data was not loaded\n",
    "# correctly or they were overwritten to be the incorrect values.\n",
    "for k in range(len(yPred)):\n",
    "    assert yPred[k][\"t\"][0] == y_t_start[k]\n",
    "    assert yPred[k][\"t\"][-1] == y_t_end[k]\n",
    "    assert len(yPred[k][\"t\"]) == y_len[k]"
   ]
  },
  {
   "cell_type": "markdown",
   "metadata": {
    "nbgrader": {
     "grade": false,
     "locked": true,
     "solution": false
    },
    "editable": false,
    "deletable": false
   },
   "source": [
    "Finally, we are doing a check on the y-values"
   ]
  },
  {
   "cell_type": "code",
   "execution_count": 24,
   "metadata": {
    "nbgrader": {
     "grade": true,
     "grade_id": "Test2",
     "locked": true,
     "points": "10",
     "solution": false
    },
    "editable": false,
    "deletable": false
   },
   "outputs": [],
   "source": [
    "y_t_start = [0.02, 0.02, 0.02, 0.02]\n",
    "y_t_end = [857.62, 861.82, 1203.42, 949.72]\n",
    "y_len = [8577, 8619, 12035, 9498]\n",
    "\n",
    "# Checking the 'v' values.\n",
    "for k in range(len(yPred)):\n",
    "    assert len(yPred[k][\"v\"]) == y_len[k]\n",
    "\n",
    "    # Extracting the proportions of your predicitions\n",
    "    n0 = np.sum(yPred[k][\"v\"] == 0)\n",
    "    n1 = np.sum(yPred[k][\"v\"] == 1)\n",
    "    n2 = np.sum(yPred[k][\"v\"] == 2)\n",
    "    n3 = np.sum(yPred[k][\"v\"] == 3)\n",
    "    print(\n",
    "        \"Trial{:02d}: n0={:4.2f} n1={:4.2f} n2={:4.2f} n3={:4.2f}\".format(\n",
    "            k, n0 / y_len[k], n1 / y_len[k], n2 / y_len[k], n3 / y_len[k]\n",
    "        )\n",
    "    )\n",
    "\n",
    "    # Checking that things add up to 1\n",
    "    assert (n0 + n1 + n2 + n3) == y_len[k]"
   ]
  }
 ],
 "metadata": {
  "accelerator": "GPU",
  "colab": {
   "gpuType": "T4",
   "provenance": []
  },
  "kernelspec": {
   "display_name": "Python 3 [3.10]",
   "language": "python",
   "name": "python3"
  },
  "language_info": {
   "codemirror_mode": {
    "name": "ipython",
    "version": 3
   },
   "file_extension": ".py",
   "mimetype": "text/x-python",
   "name": "python",
   "nbconvert_exporter": "python",
   "pygments_lexer": "ipython3",
   "version": "3.10.2"
  }
 },
 "nbformat": 4,
 "nbformat_minor": 1
}